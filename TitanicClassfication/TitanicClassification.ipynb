{
 "cells": [
  {
   "cell_type": "code",
   "execution_count": 1577,
   "metadata": {
    "collapsed": false
   },
   "outputs": [],
   "source": [
    "import pandas as pd\n",
    "import seaborn as sns\n",
    "import numpy as np\n",
    "import matplotlib.pyplot as plt\n",
    "%matplotlib inline\n",
    "\n",
    "# machine learning\n",
    "from sklearn.linear_model import LogisticRegression\n",
    "from sklearn.svm import SVC, LinearSVC\n",
    "from sklearn.ensemble import RandomForestClassifier\n",
    "from sklearn.neighbors import KNeighborsClassifier\n",
    "from sklearn.naive_bayes import GaussianNB\n",
    "from sklearn.linear_model import Perceptron\n",
    "from sklearn.linear_model import SGDClassifier\n",
    "from sklearn.tree import DecisionTreeClassifier\n",
    "from sklearn.ensemble import ExtraTreesClassifier\n",
    "from sklearn.ensemble import BaggingClassifier\n",
    "from sklearn.ensemble import AdaBoostClassifier\n",
    "from sklearn.ensemble import GradientBoostingClassifier\n",
    "from sklearn.model_selection import train_test_split\n",
    "from sklearn.model_selection import cross_val_score\n",
    "from sklearn.ensemble import VotingClassifier\n",
    "from sklearn.model_selection import GridSearchCV\n",
    "\n",
    "#Learning curve\n",
    "from sklearn.model_selection import learning_curve\n",
    "from sklearn.model_selection import ShuffleSplit\n",
    "from sklearn.model_selection import cross_val_predict\n",
    "from sklearn.model_selection import validation_curve"
   ]
  },
  {
   "cell_type": "code",
   "execution_count": 1578,
   "metadata": {
    "collapsed": true
   },
   "outputs": [],
   "source": [
    "train = pd.read_csv('train.csv')\n",
    "test = pd.read_csv('test.csv')"
   ]
  },
  {
   "cell_type": "code",
   "execution_count": 1579,
   "metadata": {
    "collapsed": false
   },
   "outputs": [],
   "source": [
    "combine = [train, test]"
   ]
  },
  {
   "cell_type": "code",
   "execution_count": 1580,
   "metadata": {
    "collapsed": false
   },
   "outputs": [
    {
     "data": {
      "text/html": [
       "<div>\n",
       "<table border=\"1\" class=\"dataframe\">\n",
       "  <thead>\n",
       "    <tr style=\"text-align: right;\">\n",
       "      <th></th>\n",
       "      <th>PassengerId</th>\n",
       "      <th>Survived</th>\n",
       "      <th>Pclass</th>\n",
       "      <th>Name</th>\n",
       "      <th>Sex</th>\n",
       "      <th>Age</th>\n",
       "      <th>SibSp</th>\n",
       "      <th>Parch</th>\n",
       "      <th>Ticket</th>\n",
       "      <th>Fare</th>\n",
       "      <th>Cabin</th>\n",
       "      <th>Embarked</th>\n",
       "    </tr>\n",
       "  </thead>\n",
       "  <tbody>\n",
       "    <tr>\n",
       "      <th>0</th>\n",
       "      <td>1</td>\n",
       "      <td>0</td>\n",
       "      <td>3</td>\n",
       "      <td>Braund, Mr. Owen Harris</td>\n",
       "      <td>male</td>\n",
       "      <td>22.0</td>\n",
       "      <td>1</td>\n",
       "      <td>0</td>\n",
       "      <td>A/5 21171</td>\n",
       "      <td>7.2500</td>\n",
       "      <td>NaN</td>\n",
       "      <td>S</td>\n",
       "    </tr>\n",
       "    <tr>\n",
       "      <th>1</th>\n",
       "      <td>2</td>\n",
       "      <td>1</td>\n",
       "      <td>1</td>\n",
       "      <td>Cumings, Mrs. John Bradley (Florence Briggs Th...</td>\n",
       "      <td>female</td>\n",
       "      <td>38.0</td>\n",
       "      <td>1</td>\n",
       "      <td>0</td>\n",
       "      <td>PC 17599</td>\n",
       "      <td>71.2833</td>\n",
       "      <td>C85</td>\n",
       "      <td>C</td>\n",
       "    </tr>\n",
       "    <tr>\n",
       "      <th>2</th>\n",
       "      <td>3</td>\n",
       "      <td>1</td>\n",
       "      <td>3</td>\n",
       "      <td>Heikkinen, Miss. Laina</td>\n",
       "      <td>female</td>\n",
       "      <td>26.0</td>\n",
       "      <td>0</td>\n",
       "      <td>0</td>\n",
       "      <td>STON/O2. 3101282</td>\n",
       "      <td>7.9250</td>\n",
       "      <td>NaN</td>\n",
       "      <td>S</td>\n",
       "    </tr>\n",
       "    <tr>\n",
       "      <th>3</th>\n",
       "      <td>4</td>\n",
       "      <td>1</td>\n",
       "      <td>1</td>\n",
       "      <td>Futrelle, Mrs. Jacques Heath (Lily May Peel)</td>\n",
       "      <td>female</td>\n",
       "      <td>35.0</td>\n",
       "      <td>1</td>\n",
       "      <td>0</td>\n",
       "      <td>113803</td>\n",
       "      <td>53.1000</td>\n",
       "      <td>C123</td>\n",
       "      <td>S</td>\n",
       "    </tr>\n",
       "    <tr>\n",
       "      <th>4</th>\n",
       "      <td>5</td>\n",
       "      <td>0</td>\n",
       "      <td>3</td>\n",
       "      <td>Allen, Mr. William Henry</td>\n",
       "      <td>male</td>\n",
       "      <td>35.0</td>\n",
       "      <td>0</td>\n",
       "      <td>0</td>\n",
       "      <td>373450</td>\n",
       "      <td>8.0500</td>\n",
       "      <td>NaN</td>\n",
       "      <td>S</td>\n",
       "    </tr>\n",
       "  </tbody>\n",
       "</table>\n",
       "</div>"
      ],
      "text/plain": [
       "   PassengerId  Survived  Pclass  \\\n",
       "0            1         0       3   \n",
       "1            2         1       1   \n",
       "2            3         1       3   \n",
       "3            4         1       1   \n",
       "4            5         0       3   \n",
       "\n",
       "                                                Name     Sex   Age  SibSp  \\\n",
       "0                            Braund, Mr. Owen Harris    male  22.0      1   \n",
       "1  Cumings, Mrs. John Bradley (Florence Briggs Th...  female  38.0      1   \n",
       "2                             Heikkinen, Miss. Laina  female  26.0      0   \n",
       "3       Futrelle, Mrs. Jacques Heath (Lily May Peel)  female  35.0      1   \n",
       "4                           Allen, Mr. William Henry    male  35.0      0   \n",
       "\n",
       "   Parch            Ticket     Fare Cabin Embarked  \n",
       "0      0         A/5 21171   7.2500   NaN        S  \n",
       "1      0          PC 17599  71.2833   C85        C  \n",
       "2      0  STON/O2. 3101282   7.9250   NaN        S  \n",
       "3      0            113803  53.1000  C123        S  \n",
       "4      0            373450   8.0500   NaN        S  "
      ]
     },
     "execution_count": 1580,
     "metadata": {},
     "output_type": "execute_result"
    }
   ],
   "source": [
    "train.head()"
   ]
  },
  {
   "cell_type": "code",
   "execution_count": 1581,
   "metadata": {
    "collapsed": false
   },
   "outputs": [
    {
     "data": {
      "text/plain": [
       "<matplotlib.axes._subplots.AxesSubplot at 0x7fcc2a4a6400>"
      ]
     },
     "execution_count": 1581,
     "metadata": {},
     "output_type": "execute_result"
    },
    {
     "data": {
      "image/png": "[encoded data removed]",
      "text/plain": [
       "<matplotlib.figure.Figure at 0x7fcc2a48fb70>"
      ]
     },
     "metadata": {},
     "output_type": "display_data"
    }
   ],
   "source": [
    "sns.heatmap(train.isnull(),yticklabels=False,cbar=False,cmap='viridis')"
   ]
  },
  {
   "cell_type": "code",
   "execution_count": 1582,
   "metadata": {
    "collapsed": false
   },
   "outputs": [
    {
     "data": {
      "text/plain": [
       "<matplotlib.axes._subplots.AxesSubplot at 0x7fcc2a4b7278>"
      ]
     },
     "execution_count": 1582,
     "metadata": {},
     "output_type": "execute_result"
    },
    {
     "data": {
      "image/png": "[encoded data removed]",
      "text/plain": [
       "<matplotlib.figure.Figure at 0x7fcc2a491160>"
      ]
     },
     "metadata": {},
     "output_type": "display_data"
    }
   ],
   "source": [
    "sns.heatmap(test.isnull(),yticklabels=False,cbar=False,cmap='viridis')"
   ]
  },
  {
   "cell_type": "code",
   "execution_count": 1583,
   "metadata": {
    "collapsed": false
   },
   "outputs": [
    {
     "data": {
      "text/plain": [
       "<matplotlib.axes._subplots.AxesSubplot at 0x7fcc2a409d30>"
      ]
     },
     "execution_count": 1583,
     "metadata": {},
     "output_type": "execute_result"
    },
    {
     "data": {
      "image/png": "[encoded data removed]",
      "text/plain": [
       "<matplotlib.figure.Figure at 0x7fcc2a43cda0>"
      ]
     },
     "metadata": {},
     "output_type": "display_data"
    }
   ],
   "source": [
    "sns.countplot(x='Survived',hue='Pclass',data=train,palette='RdBu_r')"
   ]
  },
  {
   "cell_type": "code",
   "execution_count": 1584,
   "metadata": {
    "collapsed": false
   },
   "outputs": [
    {
     "data": {
      "text/plain": [
       "<matplotlib.axes._subplots.AxesSubplot at 0x7fcc2a3e6978>"
      ]
     },
     "execution_count": 1584,
     "metadata": {},
     "output_type": "execute_result"
    },
    {
     "data": {
      "image/png": "[encoded data removed]",
      "text/plain": [
       "<matplotlib.figure.Figure at 0x7fcc2a3f5208>"
      ]
     },
     "metadata": {},
     "output_type": "display_data"
    }
   ],
   "source": [
    "sns.countplot(x='Survived',hue='Sex',data=train,palette='RdBu_r')"
   ]
  },
  {
   "cell_type": "code",
   "execution_count": 1585,
   "metadata": {
    "collapsed": false
   },
   "outputs": [],
   "source": [
    "#sns.distplot(train['Age'].dropna(),kde=False,color='darkred',bins=30)"
   ]
  },
  {
   "cell_type": "code",
   "execution_count": 1586,
   "metadata": {
    "collapsed": false
   },
   "outputs": [
    {
     "data": {
      "text/plain": [
       "<matplotlib.axes._subplots.AxesSubplot at 0x7fcc2a349e10>"
      ]
     },
     "execution_count": 1586,
     "metadata": {},
     "output_type": "execute_result"
    },
    {
     "data": {
      "image/png": "[encoded data removed]",
      "text/plain": [
       "<matplotlib.figure.Figure at 0x7fcc2a35d278>"
      ]
     },
     "metadata": {},
     "output_type": "display_data"
    }
   ],
   "source": [
    "plt.figure(figsize=(12, 7))\n",
    "sns.boxplot(x='Pclass',y='Age',data=train,palette='winter')"
   ]
  },
  {
   "cell_type": "code",
   "execution_count": 1587,
   "metadata": {
    "collapsed": false
   },
   "outputs": [
    {
     "data": {
      "text/plain": [
       "<matplotlib.axes._subplots.AxesSubplot at 0x7fcc2a2570f0>"
      ]
     },
     "execution_count": 1587,
     "metadata": {},
     "output_type": "execute_result"
    },
    {
     "data": {
      "image/png": "[encoded data removed]",
      "text/plain": [
       "<matplotlib.figure.Figure at 0x7fcc2a2b7d30>"
      ]
     },
     "metadata": {},
     "output_type": "display_data"
    }
   ],
   "source": [
    "plt.figure(figsize=(12, 7))\n",
    "sns.boxplot(x='Pclass',y='Age',data=test,palette='winter')"
   ]
  },
  {
   "cell_type": "code",
   "execution_count": 1588,
   "metadata": {
    "collapsed": true
   },
   "outputs": [],
   "source": [
    "def impute_age(cols):\n",
    "    Age = cols[0]\n",
    "    Pclass = cols[1]\n",
    "    \n",
    "    if pd.isnull(Age):\n",
    "\n",
    "        if Pclass == 1:\n",
    "            return 37\n",
    "\n",
    "        elif Pclass == 2:\n",
    "            return 29\n",
    "\n",
    "        else:\n",
    "            return 24\n",
    "\n",
    "    else:\n",
    "        return Age"
   ]
  },
  {
   "cell_type": "code",
   "execution_count": 1589,
   "metadata": {
    "collapsed": true
   },
   "outputs": [],
   "source": [
    "train['Age'] = train[['Age','Pclass']].apply(impute_age,axis=1)\n",
    "test['Age'] = test[['Age','Pclass']].apply(impute_age,axis=1)"
   ]
  },
  {
   "cell_type": "code",
   "execution_count": 1590,
   "metadata": {
    "collapsed": false
   },
   "outputs": [
    {
     "data": {
      "text/plain": [
       "<matplotlib.axes._subplots.AxesSubplot at 0x7fcc2a1f3cc0>"
      ]
     },
     "execution_count": 1590,
     "metadata": {},
     "output_type": "execute_result"
    },
    {
     "data": {
      "image/png": "[encoded data removed]",
      "text/plain": [
       "<matplotlib.figure.Figure at 0x7fcc2a1f95c0>"
      ]
     },
     "metadata": {},
     "output_type": "display_data"
    }
   ],
   "source": [
    "sns.heatmap(train.isnull(),yticklabels=False)"
   ]
  },
  {
   "cell_type": "code",
   "execution_count": 1591,
   "metadata": {
    "collapsed": true
   },
   "outputs": [],
   "source": [
    "#train.drop('Cabin', axis=1, inplace=True)\n",
    "#test.drop('Cabin', axis=1, inplace=True)"
   ]
  },
  {
   "cell_type": "code",
   "execution_count": 1592,
   "metadata": {
    "collapsed": false
   },
   "outputs": [],
   "source": [
    "#train[train.isnull().any(axis=1)]"
   ]
  },
  {
   "cell_type": "code",
   "execution_count": 1593,
   "metadata": {
    "collapsed": false
   },
   "outputs": [],
   "source": [
    "#test[test.isnull().any(axis=1)]"
   ]
  },
  {
   "cell_type": "code",
   "execution_count": 1594,
   "metadata": {
    "collapsed": false
   },
   "outputs": [
    {
     "data": {
      "text/html": [
       "<div>\n",
       "<table border=\"1\" class=\"dataframe\">\n",
       "  <thead>\n",
       "    <tr style=\"text-align: right;\">\n",
       "      <th></th>\n",
       "      <th>Title</th>\n",
       "      <th>Survived</th>\n",
       "    </tr>\n",
       "  </thead>\n",
       "  <tbody>\n",
       "    <tr>\n",
       "      <th>3</th>\n",
       "      <td>Mrs</td>\n",
       "      <td>0.795276</td>\n",
       "    </tr>\n",
       "    <tr>\n",
       "      <th>1</th>\n",
       "      <td>Miss</td>\n",
       "      <td>0.702703</td>\n",
       "    </tr>\n",
       "    <tr>\n",
       "      <th>5</th>\n",
       "      <td>Royalty</td>\n",
       "      <td>0.600000</td>\n",
       "    </tr>\n",
       "    <tr>\n",
       "      <th>0</th>\n",
       "      <td>Master</td>\n",
       "      <td>0.575000</td>\n",
       "    </tr>\n",
       "    <tr>\n",
       "      <th>4</th>\n",
       "      <td>Officer</td>\n",
       "      <td>0.181818</td>\n",
       "    </tr>\n",
       "    <tr>\n",
       "      <th>2</th>\n",
       "      <td>Mr</td>\n",
       "      <td>0.158700</td>\n",
       "    </tr>\n",
       "  </tbody>\n",
       "</table>\n",
       "</div>"
      ],
      "text/plain": [
       "     Title  Survived\n",
       "3      Mrs  0.795276\n",
       "1     Miss  0.702703\n",
       "5  Royalty  0.600000\n",
       "0   Master  0.575000\n",
       "4  Officer  0.181818\n",
       "2       Mr  0.158700"
      ]
     },
     "execution_count": 1594,
     "metadata": {},
     "output_type": "execute_result"
    }
   ],
   "source": [
    "# obtain Title from name (Mr, Mrs, Miss etc)\n",
    "combine = [train, test]\n",
    "for dataset in combine:\n",
    "    dataset['Title'] = dataset.Name.str.extract(' ([A-Za-z]+)\\.', expand=False)\n",
    "\n",
    "\n",
    "for dataset in combine:\n",
    "    dataset['Title'] = dataset['Title'].replace(['Lady', 'Countess', 'Dona'],'Royalty')\n",
    "    dataset['Title'] = dataset['Title'].replace(['Mme'], 'Mrs')\n",
    "    dataset['Title'] = dataset['Title'].replace(['Mlle','Ms'], 'Miss')\n",
    "    dataset['Title'] = dataset['Title'].replace(['Capt', 'Col', 'Major','Rev'], 'Officer')\n",
    "    dataset['Title'] = dataset['Title'].replace(['Jonkheer', 'Don','Sir'], 'Royalty')\n",
    "    dataset.loc[(dataset.Sex == 'male')   & (dataset.Title == 'Dr'),'Title'] = 'Mr'\n",
    "    dataset.loc[(dataset.Sex == 'female') & (dataset.Title == 'Dr'),'Title'] = 'Mrs'\n",
    "\n",
    "#: count survived rate for different titles\n",
    "train[['Title', 'Survived']].groupby(['Title'], as_index=False).mean().sort_values(by='Survived', ascending=False)"
   ]
  },
  {
   "cell_type": "code",
   "execution_count": 1595,
   "metadata": {
    "collapsed": false
   },
   "outputs": [
    {
     "data": {
      "text/html": [
       "<div>\n",
       "<table border=\"1\" class=\"dataframe\">\n",
       "  <thead>\n",
       "    <tr style=\"text-align: right;\">\n",
       "      <th></th>\n",
       "      <th>PassengerId</th>\n",
       "      <th>Survived</th>\n",
       "      <th>Pclass</th>\n",
       "      <th>Name</th>\n",
       "      <th>Sex</th>\n",
       "      <th>Age</th>\n",
       "      <th>SibSp</th>\n",
       "      <th>Parch</th>\n",
       "      <th>Ticket</th>\n",
       "      <th>Fare</th>\n",
       "      <th>Cabin</th>\n",
       "      <th>Embarked</th>\n",
       "      <th>Title</th>\n",
       "    </tr>\n",
       "  </thead>\n",
       "  <tbody>\n",
       "    <tr>\n",
       "      <th>0</th>\n",
       "      <td>1</td>\n",
       "      <td>0</td>\n",
       "      <td>3</td>\n",
       "      <td>Braund, Mr. Owen Harris</td>\n",
       "      <td>male</td>\n",
       "      <td>22.0</td>\n",
       "      <td>1</td>\n",
       "      <td>0</td>\n",
       "      <td>A/5 21171</td>\n",
       "      <td>7.2500</td>\n",
       "      <td>NaN</td>\n",
       "      <td>S</td>\n",
       "      <td>Mr</td>\n",
       "    </tr>\n",
       "    <tr>\n",
       "      <th>1</th>\n",
       "      <td>2</td>\n",
       "      <td>1</td>\n",
       "      <td>1</td>\n",
       "      <td>Cumings, Mrs. John Bradley (Florence Briggs Th...</td>\n",
       "      <td>female</td>\n",
       "      <td>38.0</td>\n",
       "      <td>1</td>\n",
       "      <td>0</td>\n",
       "      <td>PC 17599</td>\n",
       "      <td>71.2833</td>\n",
       "      <td>C85</td>\n",
       "      <td>C</td>\n",
       "      <td>Mrs</td>\n",
       "    </tr>\n",
       "    <tr>\n",
       "      <th>2</th>\n",
       "      <td>3</td>\n",
       "      <td>1</td>\n",
       "      <td>3</td>\n",
       "      <td>Heikkinen, Miss. Laina</td>\n",
       "      <td>female</td>\n",
       "      <td>26.0</td>\n",
       "      <td>0</td>\n",
       "      <td>0</td>\n",
       "      <td>STON/O2. 3101282</td>\n",
       "      <td>7.9250</td>\n",
       "      <td>NaN</td>\n",
       "      <td>S</td>\n",
       "      <td>Miss</td>\n",
       "    </tr>\n",
       "    <tr>\n",
       "      <th>3</th>\n",
       "      <td>4</td>\n",
       "      <td>1</td>\n",
       "      <td>1</td>\n",
       "      <td>Futrelle, Mrs. Jacques Heath (Lily May Peel)</td>\n",
       "      <td>female</td>\n",
       "      <td>35.0</td>\n",
       "      <td>1</td>\n",
       "      <td>0</td>\n",
       "      <td>113803</td>\n",
       "      <td>53.1000</td>\n",
       "      <td>C123</td>\n",
       "      <td>S</td>\n",
       "      <td>Mrs</td>\n",
       "    </tr>\n",
       "    <tr>\n",
       "      <th>4</th>\n",
       "      <td>5</td>\n",
       "      <td>0</td>\n",
       "      <td>3</td>\n",
       "      <td>Allen, Mr. William Henry</td>\n",
       "      <td>male</td>\n",
       "      <td>35.0</td>\n",
       "      <td>0</td>\n",
       "      <td>0</td>\n",
       "      <td>373450</td>\n",
       "      <td>8.0500</td>\n",
       "      <td>NaN</td>\n",
       "      <td>S</td>\n",
       "      <td>Mr</td>\n",
       "    </tr>\n",
       "  </tbody>\n",
       "</table>\n",
       "</div>"
      ],
      "text/plain": [
       "   PassengerId  Survived  Pclass  \\\n",
       "0            1         0       3   \n",
       "1            2         1       1   \n",
       "2            3         1       3   \n",
       "3            4         1       1   \n",
       "4            5         0       3   \n",
       "\n",
       "                                                Name     Sex   Age  SibSp  \\\n",
       "0                            Braund, Mr. Owen Harris    male  22.0      1   \n",
       "1  Cumings, Mrs. John Bradley (Florence Briggs Th...  female  38.0      1   \n",
       "2                             Heikkinen, Miss. Laina  female  26.0      0   \n",
       "3       Futrelle, Mrs. Jacques Heath (Lily May Peel)  female  35.0      1   \n",
       "4                           Allen, Mr. William Henry    male  35.0      0   \n",
       "\n",
       "   Parch            Ticket     Fare Cabin Embarked Title  \n",
       "0      0         A/5 21171   7.2500   NaN        S    Mr  \n",
       "1      0          PC 17599  71.2833   C85        C   Mrs  \n",
       "2      0  STON/O2. 3101282   7.9250   NaN        S  Miss  \n",
       "3      0            113803  53.1000  C123        S   Mrs  \n",
       "4      0            373450   8.0500   NaN        S    Mr  "
      ]
     },
     "execution_count": 1595,
     "metadata": {},
     "output_type": "execute_result"
    }
   ],
   "source": [
    "train.head()"
   ]
  },
  {
   "cell_type": "code",
   "execution_count": 1596,
   "metadata": {
    "collapsed": false
   },
   "outputs": [
    {
     "data": {
      "text/html": [
       "<div>\n",
       "<table border=\"1\" class=\"dataframe\">\n",
       "  <thead>\n",
       "    <tr style=\"text-align: right;\">\n",
       "      <th></th>\n",
       "      <th>PassengerId</th>\n",
       "      <th>Survived</th>\n",
       "      <th>Pclass</th>\n",
       "      <th>Name</th>\n",
       "      <th>Sex</th>\n",
       "      <th>Age</th>\n",
       "      <th>SibSp</th>\n",
       "      <th>Parch</th>\n",
       "      <th>Ticket</th>\n",
       "      <th>Fare</th>\n",
       "      <th>Cabin</th>\n",
       "      <th>Embarked</th>\n",
       "      <th>Title</th>\n",
       "    </tr>\n",
       "  </thead>\n",
       "  <tbody>\n",
       "    <tr>\n",
       "      <th>0</th>\n",
       "      <td>1</td>\n",
       "      <td>0</td>\n",
       "      <td>3</td>\n",
       "      <td>Braund, Mr. Owen Harris</td>\n",
       "      <td>male</td>\n",
       "      <td>22.0</td>\n",
       "      <td>1</td>\n",
       "      <td>0</td>\n",
       "      <td>A/5 21171</td>\n",
       "      <td>7.2500</td>\n",
       "      <td>NaN</td>\n",
       "      <td>S</td>\n",
       "      <td>1</td>\n",
       "    </tr>\n",
       "    <tr>\n",
       "      <th>1</th>\n",
       "      <td>2</td>\n",
       "      <td>1</td>\n",
       "      <td>1</td>\n",
       "      <td>Cumings, Mrs. John Bradley (Florence Briggs Th...</td>\n",
       "      <td>female</td>\n",
       "      <td>38.0</td>\n",
       "      <td>1</td>\n",
       "      <td>0</td>\n",
       "      <td>PC 17599</td>\n",
       "      <td>71.2833</td>\n",
       "      <td>C85</td>\n",
       "      <td>C</td>\n",
       "      <td>5</td>\n",
       "    </tr>\n",
       "    <tr>\n",
       "      <th>2</th>\n",
       "      <td>3</td>\n",
       "      <td>1</td>\n",
       "      <td>3</td>\n",
       "      <td>Heikkinen, Miss. Laina</td>\n",
       "      <td>female</td>\n",
       "      <td>26.0</td>\n",
       "      <td>0</td>\n",
       "      <td>0</td>\n",
       "      <td>STON/O2. 3101282</td>\n",
       "      <td>7.9250</td>\n",
       "      <td>NaN</td>\n",
       "      <td>S</td>\n",
       "      <td>6</td>\n",
       "    </tr>\n",
       "    <tr>\n",
       "      <th>3</th>\n",
       "      <td>4</td>\n",
       "      <td>1</td>\n",
       "      <td>1</td>\n",
       "      <td>Futrelle, Mrs. Jacques Heath (Lily May Peel)</td>\n",
       "      <td>female</td>\n",
       "      <td>35.0</td>\n",
       "      <td>1</td>\n",
       "      <td>0</td>\n",
       "      <td>113803</td>\n",
       "      <td>53.1000</td>\n",
       "      <td>C123</td>\n",
       "      <td>S</td>\n",
       "      <td>5</td>\n",
       "    </tr>\n",
       "    <tr>\n",
       "      <th>4</th>\n",
       "      <td>5</td>\n",
       "      <td>0</td>\n",
       "      <td>3</td>\n",
       "      <td>Allen, Mr. William Henry</td>\n",
       "      <td>male</td>\n",
       "      <td>35.0</td>\n",
       "      <td>0</td>\n",
       "      <td>0</td>\n",
       "      <td>373450</td>\n",
       "      <td>8.0500</td>\n",
       "      <td>NaN</td>\n",
       "      <td>S</td>\n",
       "      <td>1</td>\n",
       "    </tr>\n",
       "  </tbody>\n",
       "</table>\n",
       "</div>"
      ],
      "text/plain": [
       "   PassengerId  Survived  Pclass  \\\n",
       "0            1         0       3   \n",
       "1            2         1       1   \n",
       "2            3         1       3   \n",
       "3            4         1       1   \n",
       "4            5         0       3   \n",
       "\n",
       "                                                Name     Sex   Age  SibSp  \\\n",
       "0                            Braund, Mr. Owen Harris    male  22.0      1   \n",
       "1  Cumings, Mrs. John Bradley (Florence Briggs Th...  female  38.0      1   \n",
       "2                             Heikkinen, Miss. Laina  female  26.0      0   \n",
       "3       Futrelle, Mrs. Jacques Heath (Lily May Peel)  female  35.0      1   \n",
       "4                           Allen, Mr. William Henry    male  35.0      0   \n",
       "\n",
       "   Parch            Ticket     Fare Cabin Embarked  Title  \n",
       "0      0         A/5 21171   7.2500   NaN        S      1  \n",
       "1      0          PC 17599  71.2833   C85        C      5  \n",
       "2      0  STON/O2. 3101282   7.9250   NaN        S      6  \n",
       "3      0            113803  53.1000  C123        S      5  \n",
       "4      0            373450   8.0500   NaN        S      1  "
      ]
     },
     "execution_count": 1596,
     "metadata": {},
     "output_type": "execute_result"
    }
   ],
   "source": [
    "# Covert 'Title' to numbers (Mr->1, Miss->2 ...)\n",
    "title_mapping = {\"Mr\": 1, \"Miss\": 6, \"Mrs\": 5, \"Master\": 3, \"Royalty\":4, \"Officer\": 2}\n",
    "for dataset in combine:\n",
    "    dataset['Title'] = dataset['Title'].map(title_mapping)\n",
    "    dataset['Title'] = dataset['Title'].fillna(0)\n",
    "train.head()"
   ]
  },
  {
   "cell_type": "code",
   "execution_count": 1597,
   "metadata": {
    "collapsed": false
   },
   "outputs": [
    {
     "data": {
      "text/html": [
       "<div>\n",
       "<table border=\"1\" class=\"dataframe\">\n",
       "  <thead>\n",
       "    <tr style=\"text-align: right;\">\n",
       "      <th></th>\n",
       "      <th>Survived</th>\n",
       "      <th>Pclass</th>\n",
       "      <th>Sex</th>\n",
       "      <th>Age</th>\n",
       "      <th>SibSp</th>\n",
       "      <th>Parch</th>\n",
       "      <th>Ticket</th>\n",
       "      <th>Fare</th>\n",
       "      <th>Cabin</th>\n",
       "      <th>Embarked</th>\n",
       "      <th>Title</th>\n",
       "    </tr>\n",
       "  </thead>\n",
       "  <tbody>\n",
       "    <tr>\n",
       "      <th>0</th>\n",
       "      <td>0</td>\n",
       "      <td>3</td>\n",
       "      <td>0</td>\n",
       "      <td>22.0</td>\n",
       "      <td>1</td>\n",
       "      <td>0</td>\n",
       "      <td>A/5 21171</td>\n",
       "      <td>7.2500</td>\n",
       "      <td>NaN</td>\n",
       "      <td>S</td>\n",
       "      <td>1</td>\n",
       "    </tr>\n",
       "    <tr>\n",
       "      <th>1</th>\n",
       "      <td>1</td>\n",
       "      <td>1</td>\n",
       "      <td>1</td>\n",
       "      <td>38.0</td>\n",
       "      <td>1</td>\n",
       "      <td>0</td>\n",
       "      <td>PC 17599</td>\n",
       "      <td>71.2833</td>\n",
       "      <td>C85</td>\n",
       "      <td>C</td>\n",
       "      <td>5</td>\n",
       "    </tr>\n",
       "    <tr>\n",
       "      <th>2</th>\n",
       "      <td>1</td>\n",
       "      <td>3</td>\n",
       "      <td>1</td>\n",
       "      <td>26.0</td>\n",
       "      <td>0</td>\n",
       "      <td>0</td>\n",
       "      <td>STON/O2. 3101282</td>\n",
       "      <td>7.9250</td>\n",
       "      <td>NaN</td>\n",
       "      <td>S</td>\n",
       "      <td>6</td>\n",
       "    </tr>\n",
       "    <tr>\n",
       "      <th>3</th>\n",
       "      <td>1</td>\n",
       "      <td>1</td>\n",
       "      <td>1</td>\n",
       "      <td>35.0</td>\n",
       "      <td>1</td>\n",
       "      <td>0</td>\n",
       "      <td>113803</td>\n",
       "      <td>53.1000</td>\n",
       "      <td>C123</td>\n",
       "      <td>S</td>\n",
       "      <td>5</td>\n",
       "    </tr>\n",
       "    <tr>\n",
       "      <th>4</th>\n",
       "      <td>0</td>\n",
       "      <td>3</td>\n",
       "      <td>0</td>\n",
       "      <td>35.0</td>\n",
       "      <td>0</td>\n",
       "      <td>0</td>\n",
       "      <td>373450</td>\n",
       "      <td>8.0500</td>\n",
       "      <td>NaN</td>\n",
       "      <td>S</td>\n",
       "      <td>1</td>\n",
       "    </tr>\n",
       "  </tbody>\n",
       "</table>\n",
       "</div>"
      ],
      "text/plain": [
       "   Survived  Pclass  Sex   Age  SibSp  Parch            Ticket     Fare Cabin  \\\n",
       "0         0       3    0  22.0      1      0         A/5 21171   7.2500   NaN   \n",
       "1         1       1    1  38.0      1      0          PC 17599  71.2833   C85   \n",
       "2         1       3    1  26.0      0      0  STON/O2. 3101282   7.9250   NaN   \n",
       "3         1       1    1  35.0      1      0            113803  53.1000  C123   \n",
       "4         0       3    0  35.0      0      0            373450   8.0500   NaN   \n",
       "\n",
       "  Embarked  Title  \n",
       "0        S      1  \n",
       "1        C      5  \n",
       "2        S      6  \n",
       "3        S      5  \n",
       "4        S      1  "
      ]
     },
     "execution_count": 1597,
     "metadata": {},
     "output_type": "execute_result"
    }
   ],
   "source": [
    "# Remove 'Name' and 'PassengerId' in training data, and 'Name' in testing data\n",
    "train = train.drop(['Name', 'PassengerId'], axis=1)\n",
    "test = test.drop(['Name', 'PassengerId'], axis=1)\n",
    "combine = [train, test]\n",
    "\n",
    "# if age < 16, set 'Sex' to Child\n",
    "for dataset in combine:\n",
    "    dataset.loc[(dataset.Age < 16),'Sex'] = 'Child'\n",
    "    \n",
    "# Covert 'Sex' to numbers (female:1, male:2)\n",
    "for dataset in combine:\n",
    "    dataset['Sex'] = dataset['Sex'].map( {'female': 1, 'male': 0, 'Child': 2} ).astype(int)\n",
    "train.head()"
   ]
  },
  {
   "cell_type": "code",
   "execution_count": 1598,
   "metadata": {
    "collapsed": true
   },
   "outputs": [],
   "source": [
    "def ProcessData(data):\n",
    "    #sex = pd.get_dummies(data['Sex'],drop_first=True\n",
    "    embark = pd.get_dummies(data['Embarked'],drop_first=True)\n",
    "    data.drop(['Embarked'],axis=1,inplace=True)\n",
    "    data = pd.concat([data, embark], axis=1)\n",
    "    return data"
   ]
  },
  {
   "cell_type": "code",
   "execution_count": 1599,
   "metadata": {
    "collapsed": false
   },
   "outputs": [],
   "source": [
    "train = ProcessData(train)"
   ]
  },
  {
   "cell_type": "code",
   "execution_count": 1600,
   "metadata": {
    "collapsed": false
   },
   "outputs": [],
   "source": [
    "#test.ix[152]"
   ]
  },
  {
   "cell_type": "code",
   "execution_count": 1601,
   "metadata": {
    "collapsed": true
   },
   "outputs": [],
   "source": [
    "test = ProcessData(test)"
   ]
  },
  {
   "cell_type": "code",
   "execution_count": 1602,
   "metadata": {
    "collapsed": true
   },
   "outputs": [],
   "source": [
    "def impute_fare(cols):\n",
    "    Fare = cols[1]\n",
    "    Pclass = cols[0]\n",
    "    #m = cols[['Pclass', 'Fare']].groupby(['Pclass'], as_index=False).mean()\n",
    "    if pd.isnull(Fare):\n",
    "\n",
    "        if Pclass == 1:\n",
    "            return 94.28\n",
    "\n",
    "        elif Pclass == 2:\n",
    "            return 22.2\n",
    "\n",
    "        else:\n",
    "            return 12.46\n",
    "\n",
    "    else:\n",
    "        return Fare   \n",
    "\n",
    "#tmp = testFinal[['Pclass', 'Fare']].groupby(['Pclass'], as_index=False).mean()\n",
    "#tmp[tmp['Pclass']==3]['Fare']\n",
    "test['Fare'] = test[['Pclass', 'Fare']].apply(impute_fare,axis=1)"
   ]
  },
  {
   "cell_type": "code",
   "execution_count": 1603,
   "metadata": {
    "collapsed": false
   },
   "outputs": [
    {
     "name": "stdout",
     "output_type": "stream",
     "text": [
      "['U' 'C' 'E' 'G' 'D' 'A' 'B' 'F' 'T']\n",
      "['U' 'B' 'E' 'A' 'C' 'D' 'F' 'G']\n"
     ]
    }
   ],
   "source": [
    "combine = [train, test]\n",
    "\n",
    "# Create an artfical feature combinbing PClass and Age.\n",
    "for dataset in combine:\n",
    "    dataset['Child'] = 0\n",
    "    dataset['YoungLady'] = 0\n",
    "    dataset['Young'] = 0\n",
    "    dataset.loc[((dataset.Age<=10)), 'Child'] = 1\n",
    "    dataset.loc[((dataset.Age<=30) | (dataset.Title == 2)), 'YoungLady'] = 1\n",
    "    #dataset.loc[((dataset.Age<=20)), 'Young'] = 1\n",
    "    \n",
    "    \n",
    "for dataset in combine:\n",
    "    dataset.loc[ dataset['Age'] <= 16, 'Age'] = 4\n",
    "    dataset.loc[(dataset['Age'] > 16) & (dataset['Age'] <= 32), 'Age'] = 3\n",
    "    dataset.loc[(dataset['Age'] > 32) & (dataset['Age'] <= 48), 'Age'] = 2\n",
    "    dataset.loc[(dataset['Age'] > 48) & (dataset['Age'] <= 64), 'Age'] = 1\n",
    "    dataset.loc[ dataset['Age'] > 64, 'Age'] = 0\n",
    "    dataset['Age'].astype(int)\n",
    "    dataset['Title'].astype(int)\n",
    "\n",
    "# Create an artfical feature combinbing PClass and Age.\n",
    "for dataset in combine:\n",
    "    dataset['Sex&Class'] = (dataset.Sex+1) * (1.0/dataset.Pclass) #Pclass 1 has higher survival rate than 3 \n",
    "    dataset['Title&Sex'] = (dataset.Sex + 1) * dataset.Title\n",
    "    dataset['Age&Class'] = (dataset.Age) * (1.0/dataset.Pclass)\n",
    "    \n",
    "# Convert the Fare feature to ordinal values based on the FareBand\n",
    "for dataset in combine:\n",
    "    dataset.loc[ dataset['Fare'] <= 7.91, 'Fare'] = 0\n",
    "    dataset.loc[(dataset['Fare'] > 7.91) & (dataset['Fare'] <= 14.454), 'Fare'] = 1\n",
    "    dataset.loc[(dataset['Fare'] > 14.454) & (dataset['Fare'] <= 31), 'Fare']   = 2\n",
    "    dataset.loc[ dataset['Fare'] > 31, 'Fare'] = 3\n",
    "    dataset['Fare'] = dataset['Fare'].astype(int)    \n",
    "\n",
    "# Create an artfical feature combinbing Age and Fare.\n",
    "#for dataset in combine:\n",
    "#    dataset['Age&Fare'] = (dataset.Age+1) * (dataset.Fare+1)/2 \n",
    "\n",
    "for dataset in combine:\n",
    "    dataset['Ttype'] = dataset['Ticket'].str[0]\n",
    "    dataset['Bad_ticket'] = 0\n",
    "    dataset['Ttype'].isin(['3','4','5','6','7','8','A','L','W'])\n",
    "    dataset.loc[(dataset['Ttype'].isin(['3','4','5','6','7','8','A','L','W'])), 'Bad_ticket'] = 1\n",
    "    \n",
    "# Create family size from 'sibsq + parch + 1'\n",
    "for dataset in combine:\n",
    "    dataset['FamilySize'] = dataset['SibSp'] + dataset['Parch'] + 1\n",
    "    dataset['Large_Family'] = 0\n",
    "    dataset.loc[((dataset['SibSp']>2) | (dataset['Parch']>3)), 'Large_Family'] = 1\n",
    "\n",
    "    #train_df[['FamilySize', 'Survived']].groupby(['FamilySize'], as_index=False).mean().sort_values(by='Survived', ascending=False)\n",
    "\n",
    "#create another feature called IsAlone\n",
    "for dataset in combine:\n",
    "    dataset['IsAlone'] = 0\n",
    "    dataset.loc[(dataset['FamilySize'] == 1), 'IsAlone'] = 1\n",
    "    dataset.loc[(dataset['FamilySize'] == 2), 'IsAlone'] = 2\n",
    "    dataset.loc[(dataset['FamilySize'] > 2), 'IsAlone'] = 3\n",
    "    dataset.loc[(dataset['FamilySize'] > 4),  'IsAlone'] = 4\n",
    "\n",
    "for dataset in combine:\n",
    "    dataset['Deck'] = dataset['Cabin'].str[0]\n",
    "    dataset['Deck'] = dataset['Deck'].fillna(value='U')\n",
    "    #dataset[\"Deck\"] = dataset[\"Deck\"].astype(\"category\")\n",
    "    #dataset[\"Deck\"].cat.categories = [0,1,2,3,4,5,6,7,8]\n",
    "    #dataset[\"Deck\"] = dataset[\"Deck\"].astype(\"int\")\n",
    "#    dataset['Cabin_known'] = 0\n",
    "#    dataset.loc[(dataset['Cabin'].isnull() == False), 'Cabin_known'] = 1    \n",
    "print(train['Deck'].unique())\n",
    "print(test['Deck'].unique())\n",
    "\n",
    "#train_df[['IsAlone','Survived']].groupby(['IsAlone'], as_index=False).mean()\n",
    "for dataset in combine:\n",
    "    #dataset['Deck'] = dataset['Deck'].astype(\"category\")\n",
    "    dataset['Deck'] = dataset['Deck'].map( {'U': 0, 'A': 1, 'B': 2, 'C': 3, 'D': 4, 'E': 5, 'F': 6, 'G': 7, 'T':8} ).astype(int)\n",
    "    #dataset['Deck'].cat.categories = [0,1,2,3,4,5,6,7,8]\n",
    "    #dataset['Deck'] = dataset['Deck'].astype(\"int\")\n",
    "    #dataset['Embarked'] = dataset['Embarked'].astype(\"category\")\n",
    "    #dataset['Embarked'].cat.categories = [0,1,2]\n",
    "    #dataset['Embarked'] = dataset['Embarked'].astype(\"int\")\n",
    "\n",
    "\n",
    "\n",
    "#drop Parch, SibSp, and FamilySize features in favor of IsAlone\n",
    "train = train.drop(['Parch', 'SibSp', 'FamilySize','Ticket', 'Ttype','Cabin','Deck'], axis=1)\n",
    "test = test.drop(['Parch', 'SibSp', 'FamilySize', 'Ticket', 'Ttype','Cabin','Deck'], axis=1)"
   ]
  },
  {
   "cell_type": "code",
   "execution_count": null,
   "metadata": {
    "collapsed": true
   },
   "outputs": [],
   "source": []
  },
  {
   "cell_type": "code",
   "execution_count": 1604,
   "metadata": {
    "collapsed": false
   },
   "outputs": [
    {
     "data": {
      "text/html": [
       "<div>\n",
       "<table border=\"1\" class=\"dataframe\">\n",
       "  <thead>\n",
       "    <tr style=\"text-align: right;\">\n",
       "      <th></th>\n",
       "      <th>Survived</th>\n",
       "      <th>Pclass</th>\n",
       "      <th>Sex</th>\n",
       "      <th>Age</th>\n",
       "      <th>Fare</th>\n",
       "      <th>Title</th>\n",
       "      <th>Q</th>\n",
       "      <th>S</th>\n",
       "      <th>Child</th>\n",
       "      <th>YoungLady</th>\n",
       "      <th>Young</th>\n",
       "      <th>Sex&amp;Class</th>\n",
       "      <th>Title&amp;Sex</th>\n",
       "      <th>Age&amp;Class</th>\n",
       "      <th>Bad_ticket</th>\n",
       "      <th>Large_Family</th>\n",
       "      <th>IsAlone</th>\n",
       "    </tr>\n",
       "  </thead>\n",
       "  <tbody>\n",
       "    <tr>\n",
       "      <th>0</th>\n",
       "      <td>0</td>\n",
       "      <td>3</td>\n",
       "      <td>0</td>\n",
       "      <td>3.0</td>\n",
       "      <td>0</td>\n",
       "      <td>1</td>\n",
       "      <td>0.0</td>\n",
       "      <td>1.0</td>\n",
       "      <td>0</td>\n",
       "      <td>1</td>\n",
       "      <td>0</td>\n",
       "      <td>0.333333</td>\n",
       "      <td>1</td>\n",
       "      <td>1.000000</td>\n",
       "      <td>1</td>\n",
       "      <td>0</td>\n",
       "      <td>2</td>\n",
       "    </tr>\n",
       "    <tr>\n",
       "      <th>1</th>\n",
       "      <td>1</td>\n",
       "      <td>1</td>\n",
       "      <td>1</td>\n",
       "      <td>2.0</td>\n",
       "      <td>3</td>\n",
       "      <td>5</td>\n",
       "      <td>0.0</td>\n",
       "      <td>0.0</td>\n",
       "      <td>0</td>\n",
       "      <td>0</td>\n",
       "      <td>0</td>\n",
       "      <td>2.000000</td>\n",
       "      <td>10</td>\n",
       "      <td>2.000000</td>\n",
       "      <td>0</td>\n",
       "      <td>0</td>\n",
       "      <td>2</td>\n",
       "    </tr>\n",
       "    <tr>\n",
       "      <th>2</th>\n",
       "      <td>1</td>\n",
       "      <td>3</td>\n",
       "      <td>1</td>\n",
       "      <td>3.0</td>\n",
       "      <td>1</td>\n",
       "      <td>6</td>\n",
       "      <td>0.0</td>\n",
       "      <td>1.0</td>\n",
       "      <td>0</td>\n",
       "      <td>1</td>\n",
       "      <td>0</td>\n",
       "      <td>0.666667</td>\n",
       "      <td>12</td>\n",
       "      <td>1.000000</td>\n",
       "      <td>0</td>\n",
       "      <td>0</td>\n",
       "      <td>1</td>\n",
       "    </tr>\n",
       "    <tr>\n",
       "      <th>3</th>\n",
       "      <td>1</td>\n",
       "      <td>1</td>\n",
       "      <td>1</td>\n",
       "      <td>2.0</td>\n",
       "      <td>3</td>\n",
       "      <td>5</td>\n",
       "      <td>0.0</td>\n",
       "      <td>1.0</td>\n",
       "      <td>0</td>\n",
       "      <td>0</td>\n",
       "      <td>0</td>\n",
       "      <td>2.000000</td>\n",
       "      <td>10</td>\n",
       "      <td>2.000000</td>\n",
       "      <td>0</td>\n",
       "      <td>0</td>\n",
       "      <td>2</td>\n",
       "    </tr>\n",
       "    <tr>\n",
       "      <th>4</th>\n",
       "      <td>0</td>\n",
       "      <td>3</td>\n",
       "      <td>0</td>\n",
       "      <td>2.0</td>\n",
       "      <td>1</td>\n",
       "      <td>1</td>\n",
       "      <td>0.0</td>\n",
       "      <td>1.0</td>\n",
       "      <td>0</td>\n",
       "      <td>0</td>\n",
       "      <td>0</td>\n",
       "      <td>0.333333</td>\n",
       "      <td>1</td>\n",
       "      <td>0.666667</td>\n",
       "      <td>1</td>\n",
       "      <td>0</td>\n",
       "      <td>1</td>\n",
       "    </tr>\n",
       "  </tbody>\n",
       "</table>\n",
       "</div>"
      ],
      "text/plain": [
       "   Survived  Pclass  Sex  Age  Fare  Title    Q    S  Child  YoungLady  Young  \\\n",
       "0         0       3    0  3.0     0      1  0.0  1.0      0          1      0   \n",
       "1         1       1    1  2.0     3      5  0.0  0.0      0          0      0   \n",
       "2         1       3    1  3.0     1      6  0.0  1.0      0          1      0   \n",
       "3         1       1    1  2.0     3      5  0.0  1.0      0          0      0   \n",
       "4         0       3    0  2.0     1      1  0.0  1.0      0          0      0   \n",
       "\n",
       "   Sex&Class  Title&Sex  Age&Class  Bad_ticket  Large_Family  IsAlone  \n",
       "0   0.333333          1   1.000000           1             0        2  \n",
       "1   2.000000         10   2.000000           0             0        2  \n",
       "2   0.666667         12   1.000000           0             0        1  \n",
       "3   2.000000         10   2.000000           0             0        2  \n",
       "4   0.333333          1   0.666667           1             0        1  "
      ]
     },
     "execution_count": 1604,
     "metadata": {},
     "output_type": "execute_result"
    }
   ],
   "source": [
    "train.head()"
   ]
  },
  {
   "cell_type": "code",
   "execution_count": 1605,
   "metadata": {
    "collapsed": false
   },
   "outputs": [
    {
     "data": {
      "text/html": [
       "<div>\n",
       "<table border=\"1\" class=\"dataframe\">\n",
       "  <thead>\n",
       "    <tr style=\"text-align: right;\">\n",
       "      <th></th>\n",
       "      <th>Pclass</th>\n",
       "      <th>Sex</th>\n",
       "      <th>Age</th>\n",
       "      <th>Fare</th>\n",
       "      <th>Title</th>\n",
       "      <th>Q</th>\n",
       "      <th>S</th>\n",
       "      <th>Child</th>\n",
       "      <th>YoungLady</th>\n",
       "      <th>Young</th>\n",
       "      <th>Sex&amp;Class</th>\n",
       "      <th>Title&amp;Sex</th>\n",
       "      <th>Age&amp;Class</th>\n",
       "      <th>Bad_ticket</th>\n",
       "      <th>Large_Family</th>\n",
       "      <th>IsAlone</th>\n",
       "    </tr>\n",
       "  </thead>\n",
       "  <tbody>\n",
       "    <tr>\n",
       "      <th>0</th>\n",
       "      <td>3</td>\n",
       "      <td>0</td>\n",
       "      <td>2.0</td>\n",
       "      <td>0</td>\n",
       "      <td>1</td>\n",
       "      <td>1.0</td>\n",
       "      <td>0.0</td>\n",
       "      <td>0</td>\n",
       "      <td>0</td>\n",
       "      <td>0</td>\n",
       "      <td>0.333333</td>\n",
       "      <td>1</td>\n",
       "      <td>0.666667</td>\n",
       "      <td>1</td>\n",
       "      <td>0</td>\n",
       "      <td>1</td>\n",
       "    </tr>\n",
       "    <tr>\n",
       "      <th>1</th>\n",
       "      <td>3</td>\n",
       "      <td>1</td>\n",
       "      <td>2.0</td>\n",
       "      <td>0</td>\n",
       "      <td>5</td>\n",
       "      <td>0.0</td>\n",
       "      <td>1.0</td>\n",
       "      <td>0</td>\n",
       "      <td>0</td>\n",
       "      <td>0</td>\n",
       "      <td>0.666667</td>\n",
       "      <td>10</td>\n",
       "      <td>0.666667</td>\n",
       "      <td>1</td>\n",
       "      <td>0</td>\n",
       "      <td>2</td>\n",
       "    </tr>\n",
       "    <tr>\n",
       "      <th>2</th>\n",
       "      <td>2</td>\n",
       "      <td>0</td>\n",
       "      <td>1.0</td>\n",
       "      <td>1</td>\n",
       "      <td>1</td>\n",
       "      <td>1.0</td>\n",
       "      <td>0.0</td>\n",
       "      <td>0</td>\n",
       "      <td>0</td>\n",
       "      <td>0</td>\n",
       "      <td>0.500000</td>\n",
       "      <td>1</td>\n",
       "      <td>0.500000</td>\n",
       "      <td>0</td>\n",
       "      <td>0</td>\n",
       "      <td>1</td>\n",
       "    </tr>\n",
       "    <tr>\n",
       "      <th>3</th>\n",
       "      <td>3</td>\n",
       "      <td>0</td>\n",
       "      <td>3.0</td>\n",
       "      <td>1</td>\n",
       "      <td>1</td>\n",
       "      <td>0.0</td>\n",
       "      <td>1.0</td>\n",
       "      <td>0</td>\n",
       "      <td>1</td>\n",
       "      <td>0</td>\n",
       "      <td>0.333333</td>\n",
       "      <td>1</td>\n",
       "      <td>1.000000</td>\n",
       "      <td>1</td>\n",
       "      <td>0</td>\n",
       "      <td>1</td>\n",
       "    </tr>\n",
       "    <tr>\n",
       "      <th>4</th>\n",
       "      <td>3</td>\n",
       "      <td>1</td>\n",
       "      <td>3.0</td>\n",
       "      <td>1</td>\n",
       "      <td>5</td>\n",
       "      <td>0.0</td>\n",
       "      <td>1.0</td>\n",
       "      <td>0</td>\n",
       "      <td>1</td>\n",
       "      <td>0</td>\n",
       "      <td>0.666667</td>\n",
       "      <td>10</td>\n",
       "      <td>1.000000</td>\n",
       "      <td>1</td>\n",
       "      <td>0</td>\n",
       "      <td>3</td>\n",
       "    </tr>\n",
       "  </tbody>\n",
       "</table>\n",
       "</div>"
      ],
      "text/plain": [
       "   Pclass  Sex  Age  Fare  Title    Q    S  Child  YoungLady  Young  \\\n",
       "0       3    0  2.0     0      1  1.0  0.0      0          0      0   \n",
       "1       3    1  2.0     0      5  0.0  1.0      0          0      0   \n",
       "2       2    0  1.0     1      1  1.0  0.0      0          0      0   \n",
       "3       3    0  3.0     1      1  0.0  1.0      0          1      0   \n",
       "4       3    1  3.0     1      5  0.0  1.0      0          1      0   \n",
       "\n",
       "   Sex&Class  Title&Sex  Age&Class  Bad_ticket  Large_Family  IsAlone  \n",
       "0   0.333333          1   0.666667           1             0        1  \n",
       "1   0.666667         10   0.666667           1             0        2  \n",
       "2   0.500000          1   0.500000           0             0        1  \n",
       "3   0.333333          1   1.000000           1             0        1  \n",
       "4   0.666667         10   1.000000           1             0        3  "
      ]
     },
     "execution_count": 1605,
     "metadata": {},
     "output_type": "execute_result"
    }
   ],
   "source": [
    "#test.drop('PassengerId', axis=1, inplace=True)\n",
    "test.head()"
   ]
  },
  {
   "cell_type": "code",
   "execution_count": 1606,
   "metadata": {
    "collapsed": false
   },
   "outputs": [
    {
     "data": {
      "text/html": [
       "<div>\n",
       "<table border=\"1\" class=\"dataframe\">\n",
       "  <thead>\n",
       "    <tr style=\"text-align: right;\">\n",
       "      <th></th>\n",
       "      <th>Pclass</th>\n",
       "      <th>Sex</th>\n",
       "      <th>Age</th>\n",
       "      <th>Fare</th>\n",
       "      <th>Title</th>\n",
       "      <th>Q</th>\n",
       "      <th>S</th>\n",
       "      <th>Child</th>\n",
       "      <th>YoungLady</th>\n",
       "      <th>Young</th>\n",
       "      <th>Sex&amp;Class</th>\n",
       "      <th>Title&amp;Sex</th>\n",
       "      <th>Age&amp;Class</th>\n",
       "      <th>Bad_ticket</th>\n",
       "      <th>Large_Family</th>\n",
       "      <th>IsAlone</th>\n",
       "    </tr>\n",
       "  </thead>\n",
       "  <tbody>\n",
       "  </tbody>\n",
       "</table>\n",
       "</div>"
      ],
      "text/plain": [
       "Empty DataFrame\n",
       "Columns: [Pclass, Sex, Age, Fare, Title, Q, S, Child, YoungLady, Young, Sex&Class, Title&Sex, Age&Class, Bad_ticket, Large_Family, IsAlone]\n",
       "Index: []"
      ]
     },
     "execution_count": 1606,
     "metadata": {},
     "output_type": "execute_result"
    }
   ],
   "source": [
    "#create a new feature: IsAlone\n",
    "'''\n",
    "combine = [train, test]\n",
    "for dataset in combine:\n",
    "    dataset['FamilySize'] = dataset['SibSp'] + dataset['Parch'] + 1\n",
    "\n",
    "train[['FamilySize', 'Survived']].groupby(['FamilySize'], as_index=False).mean().sort_values(by='Survived', ascending=False)    \n",
    "'''\n",
    "test[test.isnull().any(axis=1)]"
   ]
  },
  {
   "cell_type": "markdown",
   "metadata": {},
   "source": [
    "## Part II: Machine Learning Model"
   ]
  },
  {
   "cell_type": "code",
   "execution_count": 1607,
   "metadata": {
    "collapsed": false
   },
   "outputs": [],
   "source": [
    "X_train = train.drop('Survived', axis=1)\n",
    "Y_train = train['Survived']\n",
    "X_test = test\n",
    "\n",
    "cv = ShuffleSplit(n_splits=100, test_size=0.2, random_state=101)"
   ]
  },
  {
   "cell_type": "code",
   "execution_count": 1608,
   "metadata": {
    "collapsed": false
   },
   "outputs": [],
   "source": [
    "# grid search\n",
    "def grid_search_model(X, Y, model, parameters, cv):\n",
    "    CV_model = GridSearchCV(estimator=model, param_grid=parameters, cv=cv)\n",
    "    CV_model.fit(X, Y)\n",
    "    CV_model.cv_results_\n",
    "    print(\"Best Score:\", CV_model.best_score_,\" / Best parameters:\", CV_model.best_params_)"
   ]
  },
  {
   "cell_type": "code",
   "execution_count": 1609,
   "metadata": {
    "collapsed": false
   },
   "outputs": [],
   "source": [
    "#validation curve\n",
    "def validation_curve_model(X, Y, model, param_name, parameters, cv, ylim, log=True):\n",
    "\n",
    "    train_scores, test_scores = validation_curve(model, X, Y, param_name=param_name, param_range=parameters,cv=cv, scoring=\"accuracy\")\n",
    "    train_scores_mean = np.mean(train_scores, axis=1)\n",
    "    train_scores_std = np.std(train_scores, axis=1)\n",
    "    test_scores_mean = np.mean(test_scores, axis=1)\n",
    "    test_scores_std = np.std(test_scores, axis=1)\n",
    "\n",
    "    plt.figure()\n",
    "    plt.title(\"Validation curve\")\n",
    "    plt.fill_between(parameters, train_scores_mean - train_scores_std,train_scores_mean + train_scores_std, alpha=0.1,\n",
    "                     color=\"r\")\n",
    "    plt.fill_between(parameters, test_scores_mean - test_scores_std,test_scores_mean + test_scores_std, alpha=0.1, color=\"g\")\n",
    "\n",
    "    if log==True:\n",
    "        plt.semilogx(parameters, train_scores_mean, 'o-', color=\"r\",label=\"Training score\")\n",
    "        plt.semilogx(parameters, test_scores_mean, 'o-', color=\"g\",label=\"Cross-validation score\")\n",
    "    else:\n",
    "        plt.plot(parameters, train_scores_mean, 'o-', color=\"r\",label=\"Training score\")\n",
    "        plt.plot(parameters, test_scores_mean, 'o-', color=\"g\",label=\"Cross-validation score\")\n",
    "\n",
    "    #plt.ylim([0.55, 0.9])\n",
    "    if ylim is not None:\n",
    "        plt.ylim(*ylim)\n",
    "\n",
    "    plt.ylabel('Score')\n",
    "    plt.xlabel('Parameter C')\n",
    "    plt.legend(loc=\"best\")\n",
    "    \n",
    "    return plt"
   ]
  },
  {
   "cell_type": "code",
   "execution_count": 1610,
   "metadata": {
    "collapsed": true
   },
   "outputs": [],
   "source": [
    "# Learning curve\n",
    "def Learning_curve_model(X, Y, model, cv, train_sizes):\n",
    "\n",
    "    plt.figure()\n",
    "    plt.title(\"Learning curve\")\n",
    "    plt.xlabel(\"Training examples\")\n",
    "    plt.ylabel(\"Score\")\n",
    "\n",
    "\n",
    "    train_sizes, train_scores, test_scores = learning_curve(model, X, Y, cv=cv, n_jobs=4, train_sizes=train_sizes)\n",
    "\n",
    "    train_scores_mean = np.mean(train_scores, axis=1)\n",
    "    train_scores_std  = np.std(train_scores, axis=1)\n",
    "    test_scores_mean  = np.mean(test_scores, axis=1)\n",
    "    test_scores_std   = np.std(test_scores, axis=1)\n",
    "    plt.grid()\n",
    "    \n",
    "    plt.fill_between(train_sizes, train_scores_mean - train_scores_std,train_scores_mean + train_scores_std, alpha=0.1,\n",
    "                     color=\"r\")\n",
    "    plt.fill_between(train_sizes, test_scores_mean - test_scores_std,test_scores_mean + test_scores_std, alpha=0.1, color=\"g\")\n",
    "    plt.plot(train_sizes, train_scores_mean, 'o-', color=\"r\",label=\"Training score\")\n",
    "    plt.plot(train_sizes, test_scores_mean, 'o-', color=\"g\",label=\"Cross-validation score\")\n",
    "                     \n",
    "    plt.legend(loc=\"best\")\n",
    "    return plt"
   ]
  },
  {
   "cell_type": "code",
   "execution_count": 1611,
   "metadata": {
    "collapsed": true
   },
   "outputs": [],
   "source": [
    "# lrearning, prediction and printing results\n",
    "def predict_model(X, Y, model, Xtest, submit_name):\n",
    "    model.fit(X, Y)\n",
    "    Y_pred  = model.predict(Xtest)\n",
    "    score   = cross_val_score(model, X, Y, cv=cv)\n",
    "    test_df = pd.read_csv('test.csv')\n",
    "    submission = pd.DataFrame({\n",
    "            \"PassengerId\": test_df[\"PassengerId\"],\n",
    "            \"Survived\": Y_pred\n",
    "        })\n",
    "    submission.to_csv(submit_name, index=False)\n",
    "    \n",
    "    return score "
   ]
  },
  {
   "cell_type": "markdown",
   "metadata": {},
   "source": [
    "### Logistic Regression"
   ]
  },
  {
   "cell_type": "code",
   "execution_count": 1612,
   "metadata": {
    "collapsed": false
   },
   "outputs": [],
   "source": [
    "search_param = 1   # 1 -- grid search / 0 -- don't search\n",
    "plot_vc      = 0   # 1--display validation curve/ 0-- don't display\n",
    "plot_lc      = 1   # 1--display learning curve/ 0 -- don't display"
   ]
  },
  {
   "cell_type": "code",
   "execution_count": 1613,
   "metadata": {
    "collapsed": false
   },
   "outputs": [
    {
     "name": "stdout",
     "output_type": "stream",
     "text": [
      "Best Score: 0.823687150838  / Best parameters: {'C': 10.0}\n"
     ]
    }
   ],
   "source": [
    "#grid search: Logistic Regression\n",
    "model = LogisticRegression()\n",
    "if search_param==1:\n",
    "    \n",
    "    param_range = np.logspace(-6, 5, 12)\n",
    "    param_grid = dict(C=param_range)\n",
    "    grid_search_model(X_train, Y_train, model, param_grid, cv)"
   ]
  },
  {
   "cell_type": "code",
   "execution_count": 727,
   "metadata": {
    "collapsed": false
   },
   "outputs": [],
   "source": [
    "#Validation Curve: Logistic Regression\n",
    "if plot_vc == 1:\n",
    "    param_range = np.logspace(-6, 3, 10)\n",
    "    param_name=\"C\"\n",
    "    ylim=[0.55, 0.9]\n",
    "    validation_curve_model(X_train, Y_train, model, \"C\", param_range, cv, ylim)"
   ]
  },
  {
   "cell_type": "code",
   "execution_count": 728,
   "metadata": {
    "collapsed": false
   },
   "outputs": [
    {
     "data": {
      "image/png": "[encoded data removed]",
      "text/plain": [
       "<matplotlib.figure.Figure at 0x7fcc303ff080>"
      ]
     },
     "metadata": {},
     "output_type": "display_data"
    }
   ],
   "source": [
    "#learn curve\n",
    "logreg  = LogisticRegression(C=10)\n",
    "\n",
    "if plot_lc==1:\n",
    "    train_size=np.linspace(.1, 1.0, 15)\n",
    "    Learning_curve_model(X_train, Y_train, logreg, cv, train_size)"
   ]
  },
  {
   "cell_type": "code",
   "execution_count": 729,
   "metadata": {
    "collapsed": false
   },
   "outputs": [
    {
     "data": {
      "text/plain": [
       "array([ 0.84916201,  0.82122905,  0.79888268,  0.82681564,  0.84357542,\n",
       "        0.82681564,  0.79888268,  0.82122905,  0.80446927,  0.83240223,\n",
       "        0.82681564,  0.81564246,  0.82122905,  0.82681564,  0.79888268,\n",
       "        0.83798883,  0.81564246,  0.86592179,  0.80446927,  0.84916201,\n",
       "        0.83240223,  0.83240223,  0.79329609,  0.82681564,  0.84916201,\n",
       "        0.8603352 ,  0.83240223,  0.8603352 ,  0.72625698,  0.83798883,\n",
       "        0.87150838,  0.8547486 ,  0.8547486 ,  0.86592179,  0.84357542,\n",
       "        0.82681564,  0.77653631,  0.84916201,  0.84916201,  0.78212291,\n",
       "        0.7877095 ,  0.82122905,  0.7877095 ,  0.80446927,  0.82122905,\n",
       "        0.78212291,  0.86592179,  0.83798883,  0.82122905,  0.83240223,\n",
       "        0.77653631,  0.82122905,  0.79329609,  0.82681564,  0.8603352 ,\n",
       "        0.80446927,  0.81564246,  0.7877095 ,  0.84916201,  0.81005587,\n",
       "        0.84357542,  0.84357542,  0.81564246,  0.84357542,  0.80446927,\n",
       "        0.7877095 ,  0.77094972,  0.83798883,  0.79888268,  0.86592179,\n",
       "        0.80446927,  0.8603352 ,  0.84916201,  0.82122905,  0.82122905,\n",
       "        0.81005587,  0.84916201,  0.83240223,  0.81564246,  0.82122905,\n",
       "        0.82122905,  0.84916201,  0.81005587,  0.82122905,  0.8547486 ,\n",
       "        0.8547486 ,  0.83240223,  0.8547486 ,  0.86592179,  0.88268156,\n",
       "        0.86592179,  0.84357542,  0.79329609,  0.83798883,  0.86592179,\n",
       "        0.82681564,  0.82681564,  0.7877095 ,  0.83240223,  0.84357542])"
      ]
     },
     "execution_count": 729,
     "metadata": {},
     "output_type": "execute_result"
    }
   ],
   "source": [
    "# Logistic Regression \n",
    "acc_log = predict_model(X_train, Y_train, logreg, X_test, 'submission_Logistic.csv')\n",
    "acc_log"
   ]
  },
  {
   "cell_type": "code",
   "execution_count": 730,
   "metadata": {
    "collapsed": false
   },
   "outputs": [
    {
     "data": {
      "text/plain": [
       "0.82687150837988843"
      ]
     },
     "execution_count": 730,
     "metadata": {},
     "output_type": "execute_result"
    }
   ],
   "source": [
    "acc_log.mean()"
   ]
  },
  {
   "cell_type": "markdown",
   "metadata": {},
   "source": [
    "## SVM"
   ]
  },
  {
   "cell_type": "code",
   "execution_count": 1614,
   "metadata": {
    "collapsed": true
   },
   "outputs": [],
   "source": [
    "search_param = 1   # 1 -- grid search / 0 -- don't search\n",
    "plot_vc      = 0   # 1--display validation curve/ 0-- don't display\n",
    "plot_lc      = 1   # 1--display learning curve/ 0 -- don't display"
   ]
  },
  {
   "cell_type": "code",
   "execution_count": 1615,
   "metadata": {
    "collapsed": false
   },
   "outputs": [
    {
     "name": "stdout",
     "output_type": "stream",
     "text": [
      "Best Score: 0.831117318436  / Best parameters: {'C': 1.2000000000000002}\n"
     ]
    }
   ],
   "source": [
    "#grid search: SVM\n",
    "#search_param = 0\n",
    "if search_param==1:\n",
    "    param_range = np.linspace(0.1, 10, 10)\n",
    "    param_grid = dict(C=param_range)\n",
    "\n",
    "    grid_search_model(X_train, Y_train, SVC(), param_grid, cv)"
   ]
  },
  {
   "cell_type": "code",
   "execution_count": 1539,
   "metadata": {
    "collapsed": true
   },
   "outputs": [],
   "source": [
    "#Validation Curve: SVC\n",
    "if plot_vc == 1:\n",
    "    param_range = np.linspace(0.1, 10, 10)\n",
    "    param_name=\"C\"\n",
    "    ylim=[0.78, 0.90]\n",
    "    validation_curve_model(X_train, Y_train, SVC(), \"C\", param_range, cv, ylim, log=False)"
   ]
  },
  {
   "cell_type": "code",
   "execution_count": 1463,
   "metadata": {
    "collapsed": false
   },
   "outputs": [
    {
     "data": {
      "image/png": "[encoded data removed]",
      "text/plain": [
       "<matplotlib.figure.Figure at 0x7fcc2b106a20>"
      ]
     },
     "metadata": {},
     "output_type": "display_data"
    }
   ],
   "source": [
    "#learn curve: SVC\n",
    "svc = SVC(C=0.621, probability=True)\n",
    "\n",
    "if plot_lc == 1:\n",
    "    train_size=np.linspace(.1, 1.0, 15)\n",
    "    Learning_curve_model(X_train, Y_train, svc, cv, train_size)"
   ]
  },
  {
   "cell_type": "code",
   "execution_count": 1464,
   "metadata": {
    "collapsed": false
   },
   "outputs": [
    {
     "data": {
      "text/plain": [
       "array([ 0.83240223,  0.82681564,  0.79888268,  0.82681564,  0.83798883,\n",
       "        0.82122905,  0.82122905,  0.81005587,  0.81564246,  0.82681564,\n",
       "        0.84357542,  0.82681564,  0.81005587,  0.83798883,  0.80446927,\n",
       "        0.84357542,  0.81564246,  0.87709497,  0.79888268,  0.84357542,\n",
       "        0.84916201,  0.86592179,  0.79888268,  0.84357542,  0.84916201,\n",
       "        0.84357542,  0.83240223,  0.86592179,  0.72067039,  0.84357542,\n",
       "        0.88826816,  0.86592179,  0.8547486 ,  0.82681564,  0.84357542,\n",
       "        0.82681564,  0.80446927,  0.8547486 ,  0.84916201,  0.7877095 ,\n",
       "        0.79329609,  0.83798883,  0.77094972,  0.78212291,  0.84916201,\n",
       "        0.79329609,  0.86592179,  0.83798883,  0.82122905,  0.82122905,\n",
       "        0.81564246,  0.81005587,  0.84357542,  0.8603352 ,  0.87709497,\n",
       "        0.80446927,  0.83240223,  0.78212291,  0.84916201,  0.81005587,\n",
       "        0.83798883,  0.83240223,  0.81005587,  0.84357542,  0.83240223,\n",
       "        0.78212291,  0.77653631,  0.84357542,  0.77653631,  0.89385475,\n",
       "        0.82122905,  0.87709497,  0.8603352 ,  0.87150838,  0.8547486 ,\n",
       "        0.81005587,  0.83798883,  0.83798883,  0.82681564,  0.82122905,\n",
       "        0.82122905,  0.86592179,  0.82122905,  0.80446927,  0.84916201,\n",
       "        0.83240223,  0.84916201,  0.83798883,  0.8603352 ,  0.87150838,\n",
       "        0.84357542,  0.83798883,  0.81005587,  0.87709497,  0.84357542,\n",
       "        0.8547486 ,  0.84916201,  0.79329609,  0.83240223,  0.8603352 ])"
      ]
     },
     "execution_count": 1464,
     "metadata": {},
     "output_type": "execute_result"
    }
   ],
   "source": [
    "# Support Vector Machines\n",
    "acc_svc = predict_model(X_train, Y_train, svc, X_test, 'submission_SVM.csv')\n",
    "acc_svc"
   ]
  },
  {
   "cell_type": "code",
   "execution_count": 1465,
   "metadata": {
    "collapsed": false
   },
   "outputs": [
    {
     "data": {
      "text/plain": [
       "0.83156424581005595"
      ]
     },
     "execution_count": 1465,
     "metadata": {},
     "output_type": "execute_result"
    }
   ],
   "source": [
    "acc_svc.mean()"
   ]
  },
  {
   "cell_type": "markdown",
   "metadata": {},
   "source": [
    "## KNN"
   ]
  },
  {
   "cell_type": "code",
   "execution_count": 737,
   "metadata": {
    "collapsed": true
   },
   "outputs": [],
   "source": [
    "search_param = 1   # 1 -- grid search / 0 -- don't search\n",
    "plot_vc      = 0   # 1--display validation curve/ 0-- don't display\n",
    "plot_lc      = 1   # 1--display learning curve/ 0 -- don't display"
   ]
  },
  {
   "cell_type": "code",
   "execution_count": 738,
   "metadata": {
    "collapsed": false
   },
   "outputs": [
    {
     "name": "stdout",
     "output_type": "stream",
     "text": [
      "Best Score: 0.824581005587  / Best parameters: {'n_neighbors': 10}\n"
     ]
    }
   ],
   "source": [
    "#grid search: KNN\n",
    "if search_param==1:\n",
    "    param_range = (np.linspace(1, 10, 10)).astype(int)\n",
    "    param_grid = dict(n_neighbors=param_range)\n",
    "\n",
    "    grid_search_model(X_train, Y_train, KNeighborsClassifier(), param_grid, cv)"
   ]
  },
  {
   "cell_type": "code",
   "execution_count": 739,
   "metadata": {
    "collapsed": true
   },
   "outputs": [],
   "source": [
    "#Validation Curve: KNN\n",
    "if plot_vc==1:\n",
    "    param_range = np.linspace(2, 20, 10).astype(int)\n",
    "    param_name=\"n_neighbors\"\n",
    "    ylim=[0.75, 0.90]\n",
    "    validation_curve_model(X_train, Y_train, KNeighborsClassifier(), \"n_neighbors\", param_range, cv, ylim, log=False)"
   ]
  },
  {
   "cell_type": "code",
   "execution_count": 740,
   "metadata": {
    "collapsed": false
   },
   "outputs": [
    {
     "data": {
      "image/png": "[encoded data removed]",
      "text/plain": [
       "<matplotlib.figure.Figure at 0x7fcc30f8beb8>"
      ]
     },
     "metadata": {},
     "output_type": "display_data"
    }
   ],
   "source": [
    "#learn curve: KNN\n",
    "knn = KNeighborsClassifier(n_neighbors = 10)\n",
    "\n",
    "if plot_lc==1:\n",
    "    train_size=np.linspace(.1, 1.0, 15)\n",
    "    Learning_curve_model(X_train, Y_train, knn, cv, train_size)"
   ]
  },
  {
   "cell_type": "code",
   "execution_count": 741,
   "metadata": {
    "collapsed": false
   },
   "outputs": [
    {
     "data": {
      "text/plain": [
       "array([ 0.84916201,  0.83798883,  0.81005587,  0.82681564,  0.81005587,\n",
       "        0.84357542,  0.81564246,  0.77653631,  0.83240223,  0.84357542,\n",
       "        0.82681564,  0.83240223,  0.80446927,  0.83240223,  0.83240223,\n",
       "        0.83798883,  0.84357542,  0.83240223,  0.81005587,  0.82681564,\n",
       "        0.84357542,  0.7877095 ,  0.79329609,  0.82122905,  0.83240223,\n",
       "        0.83798883,  0.81005587,  0.8547486 ,  0.72625698,  0.83240223,\n",
       "        0.84916201,  0.84916201,  0.84916201,  0.84916201,  0.84916201,\n",
       "        0.82122905,  0.79329609,  0.8603352 ,  0.84916201,  0.78212291,\n",
       "        0.80446927,  0.83798883,  0.79888268,  0.78212291,  0.83240223,\n",
       "        0.7877095 ,  0.86592179,  0.81564246,  0.83240223,  0.83798883,\n",
       "        0.82122905,  0.82122905,  0.83240223,  0.82681564,  0.86592179,\n",
       "        0.81005587,  0.82122905,  0.81564246,  0.83798883,  0.82681564,\n",
       "        0.84357542,  0.84916201,  0.80446927,  0.84916201,  0.7877095 ,\n",
       "        0.7877095 ,  0.77094972,  0.81564246,  0.79329609,  0.87709497,\n",
       "        0.81564246,  0.82122905,  0.82122905,  0.81564246,  0.80446927,\n",
       "        0.83798883,  0.83798883,  0.81564246,  0.81564246,  0.79888268,\n",
       "        0.80446927,  0.83798883,  0.82681564,  0.79888268,  0.8547486 ,\n",
       "        0.83240223,  0.8603352 ,  0.82681564,  0.88268156,  0.89385475,\n",
       "        0.87150838,  0.82122905,  0.77094972,  0.82681564,  0.80446927,\n",
       "        0.83798883,  0.80446927,  0.78212291,  0.82122905,  0.84357542])"
      ]
     },
     "execution_count": 741,
     "metadata": {},
     "output_type": "execute_result"
    }
   ],
   "source": [
    "# KNN\n",
    "acc_knn = predict_model(X_train, Y_train, knn, X_test, 'submission_KNN.csv')\n",
    "acc_knn"
   ]
  },
  {
   "cell_type": "code",
   "execution_count": 742,
   "metadata": {
    "collapsed": false
   },
   "outputs": [
    {
     "data": {
      "text/plain": [
       "0.82458100558659231"
      ]
     },
     "execution_count": 742,
     "metadata": {},
     "output_type": "execute_result"
    }
   ],
   "source": [
    "acc_knn.mean()"
   ]
  },
  {
   "cell_type": "markdown",
   "metadata": {},
   "source": [
    "## Naive Bayes"
   ]
  },
  {
   "cell_type": "code",
   "execution_count": 170,
   "metadata": {
    "collapsed": false
   },
   "outputs": [
    {
     "data": {
      "text/plain": [
       "array([ 0.75418994,  0.78212291,  0.75418994,  0.73184358,  0.75977654,\n",
       "        0.77653631,  0.75418994,  0.79329609,  0.76536313,  0.75418994,\n",
       "        0.72067039,  0.70391061,  0.74301676,  0.7877095 ,  0.76536313,\n",
       "        0.77094972,  0.70949721,  0.7877095 ,  0.74860335,  0.72625698,\n",
       "        0.76536313,  0.7150838 ,  0.74301676,  0.79888268,  0.7150838 ,\n",
       "        0.7877095 ,  0.72067039,  0.83798883,  0.70391061,  0.73743017,\n",
       "        0.74301676,  0.79888268,  0.76536313,  0.77653631,  0.7877095 ,\n",
       "        0.74860335,  0.77094972,  0.7877095 ,  0.77094972,  0.74301676,\n",
       "        0.77653631,  0.77094972,  0.73184358,  0.77653631,  0.79888268,\n",
       "        0.72625698,  0.74860335,  0.76536313,  0.75977654,  0.75418994,\n",
       "        0.82122905,  0.7877095 ,  0.74860335,  0.72625698,  0.75977654,\n",
       "        0.73743017,  0.74860335,  0.75418994,  0.75977654,  0.77653631,\n",
       "        0.75418994,  0.79329609,  0.76536313,  0.80446927,  0.70949721,\n",
       "        0.73184358,  0.70391061,  0.75418994,  0.70949721,  0.76536313,\n",
       "        0.72625698,  0.78212291,  0.75418994,  0.7877095 ,  0.73184358,\n",
       "        0.7150838 ,  0.7877095 ,  0.75977654,  0.74860335,  0.7150838 ,\n",
       "        0.75418994,  0.7877095 ,  0.75418994,  0.78212291,  0.77653631,\n",
       "        0.78212291,  0.7877095 ,  0.77094972,  0.79888268,  0.77094972,\n",
       "        0.75977654,  0.77653631,  0.74301676,  0.7877095 ,  0.73743017,\n",
       "        0.75977654,  0.75418994,  0.73743017,  0.75977654,  0.77653631])"
      ]
     },
     "execution_count": 170,
     "metadata": {},
     "output_type": "execute_result"
    }
   ],
   "source": [
    "# Gaussian Naive Bayes\n",
    "gaussian = GaussianNB()\n",
    "acc_gaussian = predict_model(X_train, Y_train, gaussian, X_test, 'submission_Gassian_Naive_Bayes.csv')\n",
    "acc_gaussian"
   ]
  },
  {
   "cell_type": "markdown",
   "metadata": {},
   "source": [
    "## eXtreme Gradient Boosting/Extra Trees "
   ]
  },
  {
   "cell_type": "code",
   "execution_count": 380,
   "metadata": {
    "collapsed": false
   },
   "outputs": [
    {
     "data": {
      "text/plain": [
       "array([ 0.8358209 ,  0.8358209 ,  0.76865672,  0.80597015,  0.81343284,\n",
       "        0.80597015,  0.79850746,  0.80597015,  0.84328358,  0.84328358,\n",
       "        0.85074627,  0.80597015,  0.82089552,  0.81343284,  0.8358209 ,\n",
       "        0.80597015,  0.82835821,  0.81343284,  0.82089552,  0.78358209,\n",
       "        0.82835821,  0.84328358,  0.79104478,  0.82835821,  0.80597015,\n",
       "        0.84328358,  0.85820896,  0.8358209 ,  0.68656716,  0.85074627,\n",
       "        0.84328358,  0.85820896,  0.82835821,  0.82089552,  0.84328358,\n",
       "        0.8358209 ,  0.7761194 ,  0.87313433,  0.85820896,  0.74626866,\n",
       "        0.79850746,  0.82835821,  0.79850746,  0.79104478,  0.85820896,\n",
       "        0.82835821,  0.8358209 ,  0.82089552,  0.82089552,  0.79850746,\n",
       "        0.82835821,  0.79850746,  0.8358209 ,  0.79850746,  0.88059701,\n",
       "        0.82089552,  0.76119403,  0.8358209 ,  0.8358209 ,  0.7761194 ,\n",
       "        0.8358209 ,  0.8358209 ,  0.79104478,  0.82835821,  0.80597015,\n",
       "        0.76865672,  0.7761194 ,  0.78358209,  0.79104478,  0.85820896,\n",
       "        0.76865672,  0.85074627,  0.82835821,  0.81343284,  0.81343284,\n",
       "        0.7761194 ,  0.8358209 ,  0.80597015,  0.81343284,  0.79850746,\n",
       "        0.82089552,  0.8358209 ,  0.81343284,  0.82835821,  0.8358209 ,\n",
       "        0.84328358,  0.82835821,  0.8358209 ,  0.85074627,  0.89552239,\n",
       "        0.85820896,  0.78358209,  0.76865672,  0.84328358,  0.85074627,\n",
       "        0.84328358,  0.82835821,  0.80597015,  0.85820896,  0.85074627])"
      ]
     },
     "execution_count": 380,
     "metadata": {},
     "output_type": "execute_result"
    }
   ],
   "source": [
    "#clf_xgb = xgb.XGBClassifier(\n",
    "#    max_depth=2,\n",
    "#    n_estimators=500,\n",
    "#    subsample=0.5,\n",
    "#    learning_rate=0.1\n",
    "#    )\n",
    "clf_ext = ExtraTreesClassifier(\n",
    "    max_features='auto',\n",
    "    bootstrap=True,\n",
    "    oob_score=True,\n",
    "    n_estimators=1000,\n",
    "    max_depth=None,\n",
    "    min_samples_split=10\n",
    "    #class_weight=\"balanced\",\n",
    "    #min_weight_fraction_leaf=0.02\n",
    "    )\n",
    "\n",
    "acc_ext = predict_model(X_train, Y_train, clf_ext, X_test, 'submission_Ext.csv')\n",
    "acc_ext"
   ]
  },
  {
   "cell_type": "code",
   "execution_count": 382,
   "metadata": {
    "collapsed": false
   },
   "outputs": [
    {
     "data": {
      "text/plain": [
       "0.81999999999999995"
      ]
     },
     "execution_count": 382,
     "metadata": {},
     "output_type": "execute_result"
    }
   ],
   "source": [
    "acc_ext.mean()"
   ]
  },
  {
   "cell_type": "markdown",
   "metadata": {},
   "source": [
    "## Perceptron"
   ]
  },
  {
   "cell_type": "code",
   "execution_count": 171,
   "metadata": {
    "collapsed": false
   },
   "outputs": [
    {
     "data": {
      "text/plain": [
       "array([ 0.77653631,  0.59776536,  0.75418994,  0.77653631,  0.79329609,\n",
       "        0.75977654,  0.77094972,  0.79888268,  0.39106145,  0.81564246,\n",
       "        0.82122905,  0.75418994,  0.73184358,  0.74860335,  0.60893855,\n",
       "        0.41340782,  0.73743017,  0.72625698,  0.62569832,  0.76536313,\n",
       "        0.69832402,  0.75418994,  0.58659218,  0.77094972,  0.78212291,\n",
       "        0.77653631,  0.74860335,  0.81564246,  0.69832402,  0.7877095 ,\n",
       "        0.70391061,  0.81564246,  0.83798883,  0.81564246,  0.82122905,\n",
       "        0.40782123,  0.74301676,  0.80446927,  0.82681564,  0.77094972,\n",
       "        0.39664804,  0.45251397,  0.76536313,  0.74301676,  0.47486034,\n",
       "        0.75977654,  0.69273743,  0.80446927,  0.68715084,  0.75977654,\n",
       "        0.78212291,  0.79329609,  0.7150838 ,  0.81564246,  0.70949721,\n",
       "        0.69273743,  0.77094972,  0.69832402,  0.78212291,  0.4301676 ,\n",
       "        0.79888268,  0.80446927,  0.75418994,  0.83240223,  0.68715084,\n",
       "        0.7150838 ,  0.68715084,  0.60335196,  0.70949721,  0.6424581 ,\n",
       "        0.7877095 ,  0.43575419,  0.7877095 ,  0.70391061,  0.7877095 ,\n",
       "        0.62569832,  0.84357542,  0.79329609,  0.70391061,  0.42458101,\n",
       "        0.78212291,  0.72625698,  0.79888268,  0.76536313,  0.7150838 ,\n",
       "        0.63687151,  0.82122905,  0.65921788,  0.46368715,  0.70949721,\n",
       "        0.77094972,  0.68715084,  0.77094972,  0.63687151,  0.72625698,\n",
       "        0.78212291,  0.76536313,  0.73184358,  0.75977654,  0.72625698])"
      ]
     },
     "execution_count": 171,
     "metadata": {},
     "output_type": "execute_result"
    }
   ],
   "source": [
    "# Perceptron\n",
    "perceptron = Perceptron()\n",
    "acc_perceptron = predict_model(X_train, Y_train, perceptron, X_test, 'submission_Perception.csv')\n",
    "acc_perceptron"
   ]
  },
  {
   "cell_type": "markdown",
   "metadata": {},
   "source": [
    "## Linear SVC"
   ]
  },
  {
   "cell_type": "code",
   "execution_count": 172,
   "metadata": {
    "collapsed": false
   },
   "outputs": [
    {
     "data": {
      "text/plain": [
       "array([ 0.81564246,  0.79888268,  0.76536313,  0.81005587,  0.82122905,\n",
       "        0.81564246,  0.79888268,  0.79329609,  0.75977654,  0.79329609,\n",
       "        0.82681564,  0.78212291,  0.7877095 ,  0.81005587,  0.78212291,\n",
       "        0.83240223,  0.77653631,  0.82681564,  0.7877095 ,  0.81005587,\n",
       "        0.81564246,  0.77653631,  0.78212291,  0.80446927,  0.77653631,\n",
       "        0.82681564,  0.79888268,  0.84916201,  0.7150838 ,  0.81005587,\n",
       "        0.83240223,  0.83240223,  0.84357542,  0.83798883,  0.82681564,\n",
       "        0.81005587,  0.74301676,  0.83240223,  0.82122905,  0.76536313,\n",
       "        0.77653631,  0.80446927,  0.7150838 ,  0.79888268,  0.82122905,\n",
       "        0.77094972,  0.79329609,  0.84916201,  0.80446927,  0.81005587,\n",
       "        0.75977654,  0.82122905,  0.7877095 ,  0.78212291,  0.83240223,\n",
       "        0.77653631,  0.81564246,  0.74860335,  0.81564246,  0.79888268,\n",
       "        0.82681564,  0.82681564,  0.82122905,  0.83798883,  0.77094972,\n",
       "        0.77653631,  0.75977654,  0.77653631,  0.75418994,  0.82681564,\n",
       "        0.74301676,  0.82681564,  0.81005587,  0.82122905,  0.77653631,\n",
       "        0.77653631,  0.83798883,  0.80446927,  0.78212291,  0.77653631,\n",
       "        0.79329609,  0.82122905,  0.81005587,  0.7877095 ,  0.82681564,\n",
       "        0.84916201,  0.81005587,  0.84916201,  0.82122905,  0.84357542,\n",
       "        0.84357542,  0.82681564,  0.78212291,  0.82122905,  0.77653631,\n",
       "        0.80446927,  0.75977654,  0.77653631,  0.79888268,  0.81564246])"
      ]
     },
     "execution_count": 172,
     "metadata": {},
     "output_type": "execute_result"
    }
   ],
   "source": [
    "# Linear SVC\n",
    "linear_svc = LinearSVC()\n",
    "acc_linear_svc = predict_model(X_train, Y_train, linear_svc, X_test, 'submission_Linear_SVC.csv')\n",
    "acc_linear_svc"
   ]
  },
  {
   "cell_type": "markdown",
   "metadata": {},
   "source": [
    "## Stochastic Gradient Descent"
   ]
  },
  {
   "cell_type": "code",
   "execution_count": 173,
   "metadata": {
    "collapsed": false
   },
   "outputs": [
    {
     "data": {
      "text/plain": [
       "array([ 0.77094972,  0.78212291,  0.68715084,  0.65363128,  0.81564246,\n",
       "        0.7877095 ,  0.79888268,  0.76536313,  0.78212291,  0.65921788,\n",
       "        0.6424581 ,  0.74860335,  0.39664804,  0.47486034,  0.68715084,\n",
       "        0.74301676,  0.75418994,  0.77094972,  0.70949721,  0.65921788,\n",
       "        0.76536313,  0.78212291,  0.77094972,  0.70949721,  0.75977654,\n",
       "        0.77094972,  0.74860335,  0.82122905,  0.65363128,  0.74860335,\n",
       "        0.63128492,  0.64804469,  0.36312849,  0.40782123,  0.82122905,\n",
       "        0.74301676,  0.67597765,  0.70391061,  0.74301676,  0.77653631,\n",
       "        0.76536313,  0.77653631,  0.7877095 ,  0.67597765,  0.82681564,\n",
       "        0.75977654,  0.78212291,  0.7877095 ,  0.81005587,  0.73743017,\n",
       "        0.7150838 ,  0.78212291,  0.75418994,  0.77094972,  0.65363128,\n",
       "        0.72067039,  0.76536313,  0.76536313,  0.72625698,  0.74301676,\n",
       "        0.53072626,  0.36312849,  0.72625698,  0.75418994,  0.7150838 ,\n",
       "        0.78212291,  0.73184358,  0.77094972,  0.72625698,  0.79888268,\n",
       "        0.67039106,  0.80446927,  0.83240223,  0.63687151,  0.77653631,\n",
       "        0.57541899,  0.74301676,  0.60335196,  0.66480447,  0.4301676 ,\n",
       "        0.68156425,  0.62011173,  0.7877095 ,  0.77094972,  0.80446927,\n",
       "        0.73743017,  0.82122905,  0.41899441,  0.48603352,  0.81005587,\n",
       "        0.72625698,  0.75977654,  0.75418994,  0.74301676,  0.83798883,\n",
       "        0.68715084,  0.74301676,  0.62011173,  0.53631285,  0.73184358])"
      ]
     },
     "execution_count": 173,
     "metadata": {},
     "output_type": "execute_result"
    }
   ],
   "source": [
    "# Stochastic Gradient Descent\n",
    "sgd = SGDClassifier()\n",
    "acc_sgd = predict_model(X_train, Y_train, sgd, X_test, 'submission_stochastic_Gradient_Descent.csv')\n",
    "acc_sgd"
   ]
  },
  {
   "cell_type": "markdown",
   "metadata": {},
   "source": [
    "## Decision Tree"
   ]
  },
  {
   "cell_type": "code",
   "execution_count": 174,
   "metadata": {
    "collapsed": false
   },
   "outputs": [
    {
     "data": {
      "text/plain": [
       "array([ 0.82122905,  0.82122905,  0.79329609,  0.80446927,  0.7877095 ,\n",
       "        0.81564246,  0.81564246,  0.78212291,  0.75977654,  0.83240223,\n",
       "        0.81005587,  0.79329609,  0.77094972,  0.82681564,  0.81005587,\n",
       "        0.77653631,  0.79329609,  0.82122905,  0.81005587,  0.80446927,\n",
       "        0.82681564,  0.81564246,  0.75977654,  0.81564246,  0.80446927,\n",
       "        0.82122905,  0.7877095 ,  0.84916201,  0.70391061,  0.83240223,\n",
       "        0.84357542,  0.8547486 ,  0.81564246,  0.83798883,  0.81005587,\n",
       "        0.79888268,  0.78212291,  0.81564246,  0.81564246,  0.77653631,\n",
       "        0.79888268,  0.83240223,  0.80446927,  0.77094972,  0.79888268,\n",
       "        0.7877095 ,  0.86592179,  0.78212291,  0.82122905,  0.81564246,\n",
       "        0.7877095 ,  0.82681564,  0.83240223,  0.79888268,  0.87150838,\n",
       "        0.7877095 ,  0.79329609,  0.80446927,  0.79888268,  0.7877095 ,\n",
       "        0.83240223,  0.82681564,  0.80446927,  0.82681564,  0.77094972,\n",
       "        0.80446927,  0.73743017,  0.79888268,  0.76536313,  0.88826816,\n",
       "        0.81005587,  0.83798883,  0.81564246,  0.80446927,  0.80446927,\n",
       "        0.81005587,  0.84916201,  0.81564246,  0.7877095 ,  0.78212291,\n",
       "        0.80446927,  0.80446927,  0.79329609,  0.79329609,  0.81005587,\n",
       "        0.83798883,  0.81005587,  0.78212291,  0.83798883,  0.87709497,\n",
       "        0.84916201,  0.7877095 ,  0.78212291,  0.8547486 ,  0.83240223,\n",
       "        0.83240223,  0.7877095 ,  0.78212291,  0.81005587,  0.81564246])"
      ]
     },
     "execution_count": 174,
     "metadata": {},
     "output_type": "execute_result"
    }
   ],
   "source": [
    "# Decision Tree\n",
    "decision_tree = DecisionTreeClassifier()\n",
    "acc_decision_tree = predict_model(X_train, Y_train, decision_tree, X_test, 'submission_Decision_Tree.csv')\n",
    "acc_decision_tree"
   ]
  },
  {
   "cell_type": "markdown",
   "metadata": {},
   "source": [
    "## Random Forest"
   ]
  },
  {
   "cell_type": "code",
   "execution_count": 383,
   "metadata": {
    "collapsed": true
   },
   "outputs": [],
   "source": [
    "search_param = 0   # 1 -- grid search / 0 -- don't search\n",
    "plot_vc      = 0   # 1--display validation curve/ 0-- don't display\n",
    "plot_lc      = 1   # 1--display learning curve/ 0 -- don't display"
   ]
  },
  {
   "cell_type": "code",
   "execution_count": 384,
   "metadata": {
    "collapsed": true
   },
   "outputs": [],
   "source": [
    "#grid search: Random Forest (This step is very slow)\n",
    "#param_range = (np.linspace(10, 110, 10)).astype(int)\n",
    "#param_leaf = (np.linspace(1, 2, 2)).astype(int)\n",
    "#param_grid = {'n_estimators':param_range, 'min_samples_leaf':param_leaf}\n",
    "\n",
    "#grid_search_model(X_data, Y_data, RandomForestClassifier(), param_grid, cv)"
   ]
  },
  {
   "cell_type": "code",
   "execution_count": 385,
   "metadata": {
    "collapsed": true
   },
   "outputs": [],
   "source": [
    "if plot_vc==1:\n",
    "    param_range = np.linspace(10, 110, 10).astype(int)\n",
    "    ylim=[0.75, 0.90]\n",
    "    validation_curve_model(X_data, Y_data, RandomForestClassifier(min_samples_leaf=12), \"n_estimators\", param_range, cv, ylim, log=False)"
   ]
  },
  {
   "cell_type": "code",
   "execution_count": 386,
   "metadata": {
    "collapsed": true
   },
   "outputs": [],
   "source": [
    "if plot_vc==1:\n",
    "    param_range = np.linspace(1, 21, 10).astype(int)\n",
    "    ylim=[0.75, 0.90]\n",
    "    validation_curve_model(X_train, Y_train, RandomForestClassifier(n_estimators=80), \"min_samples_leaf\", param_range, cv, ylim, log=False)"
   ]
  },
  {
   "cell_type": "code",
   "execution_count": 1455,
   "metadata": {
    "collapsed": false
   },
   "outputs": [
    {
     "data": {
      "text/plain": [
       "array([ 0.84357542,  0.81564246,  0.79888268,  0.82122905,  0.83240223,\n",
       "        0.83240223,  0.81564246,  0.83240223,  0.81564246,  0.84357542,\n",
       "        0.83240223,  0.82681564,  0.82122905,  0.83240223,  0.80446927,\n",
       "        0.83798883,  0.82122905,  0.8547486 ,  0.79888268,  0.84357542,\n",
       "        0.84357542,  0.83240223,  0.80446927,  0.84916201,  0.8547486 ,\n",
       "        0.86592179,  0.82122905,  0.8547486 ,  0.70949721,  0.83240223,\n",
       "        0.87709497,  0.87150838,  0.86592179,  0.83240223,  0.84916201,\n",
       "        0.82681564,  0.78212291,  0.8603352 ,  0.84916201,  0.79329609,\n",
       "        0.80446927,  0.82681564,  0.76536313,  0.78212291,  0.81564246,\n",
       "        0.80446927,  0.86592179,  0.84357542,  0.81005587,  0.82122905,\n",
       "        0.79888268,  0.81564246,  0.82681564,  0.8603352 ,  0.87150838,\n",
       "        0.79329609,  0.82681564,  0.78212291,  0.8547486 ,  0.81005587,\n",
       "        0.83798883,  0.82122905,  0.82681564,  0.84916201,  0.82681564,\n",
       "        0.7877095 ,  0.77653631,  0.83798883,  0.77094972,  0.8603352 ,\n",
       "        0.81564246,  0.86592179,  0.8603352 ,  0.84916201,  0.83798883,\n",
       "        0.80446927,  0.83798883,  0.83240223,  0.81564246,  0.80446927,\n",
       "        0.82681564,  0.8603352 ,  0.81564246,  0.79888268,  0.84357542,\n",
       "        0.84916201,  0.84357542,  0.84357542,  0.8547486 ,  0.88268156,\n",
       "        0.84916201,  0.83240223,  0.78212291,  0.8547486 ,  0.8547486 ,\n",
       "        0.84357542,  0.82681564,  0.77653631,  0.83798883,  0.8547486 ])"
      ]
     },
     "execution_count": 1455,
     "metadata": {},
     "output_type": "execute_result"
    }
   ],
   "source": [
    "# Random Forest\n",
    "random_forest = RandomForestClassifier(n_estimators=80, random_state =0, min_samples_leaf = 12)\n",
    "acc_random_forest = predict_model(X_train, Y_train, random_forest, X_test, 'submission_random_forest.csv')\n",
    "acc_random_forest"
   ]
  },
  {
   "cell_type": "code",
   "execution_count": 1456,
   "metadata": {
    "collapsed": false
   },
   "outputs": [
    {
     "data": {
      "text/plain": [
       "0.8283240223463687"
      ]
     },
     "execution_count": 1456,
     "metadata": {},
     "output_type": "execute_result"
    }
   ],
   "source": [
    "acc_random_forest.mean()"
   ]
  },
  {
   "cell_type": "code",
   "execution_count": 177,
   "metadata": {
    "collapsed": true
   },
   "outputs": [],
   "source": [
    "#ensemble votring\n",
    "ensemble_voting = VotingClassifier(estimators=[('lg', logreg), ('nb', gaussian), ('SVM', svc), ('knn', knn), ('rf', random_forest),('dt',decision_tree)], voting='soft')\n",
    "acc_ensemble_voting = predict_model(X_train, Y_train, ensemble_voting, X_test, 'submission_ensemble_voting.csv')"
   ]
  },
  {
   "cell_type": "code",
   "execution_count": 178,
   "metadata": {
    "collapsed": false
   },
   "outputs": [
    {
     "data": {
      "text/plain": [
       "array([ 0.83798883,  0.83240223,  0.79888268,  0.82122905,  0.82681564,\n",
       "        0.82681564,  0.81564246,  0.81005587,  0.79888268,  0.84916201,\n",
       "        0.82681564,  0.82681564,  0.82122905,  0.83798883,  0.81564246,\n",
       "        0.84357542,  0.7877095 ,  0.83798883,  0.81564246,  0.83798883,\n",
       "        0.83240223,  0.83240223,  0.79329609,  0.84357542,  0.83798883,\n",
       "        0.84916201,  0.80446927,  0.8547486 ,  0.70391061,  0.8547486 ,\n",
       "        0.84916201,  0.86592179,  0.83798883,  0.84357542,  0.83240223,\n",
       "        0.81564246,  0.79329609,  0.84916201,  0.84357542,  0.77653631,\n",
       "        0.78212291,  0.82681564,  0.80446927,  0.7877095 ,  0.8547486 ,\n",
       "        0.79329609,  0.84916201,  0.84357542,  0.82122905,  0.82681564,\n",
       "        0.81005587,  0.81005587,  0.82681564,  0.82122905,  0.86592179,\n",
       "        0.79888268,  0.83240223,  0.79888268,  0.84357542,  0.80446927,\n",
       "        0.82122905,  0.83240223,  0.82681564,  0.8547486 ,  0.81005587,\n",
       "        0.77653631,  0.77094972,  0.83798883,  0.78212291,  0.88268156,\n",
       "        0.81564246,  0.8603352 ,  0.8547486 ,  0.79329609,  0.82122905,\n",
       "        0.82122905,  0.8547486 ,  0.83240223,  0.80446927,  0.7877095 ,\n",
       "        0.79888268,  0.84357542,  0.82681564,  0.79329609,  0.8547486 ,\n",
       "        0.8547486 ,  0.83240223,  0.84357542,  0.8547486 ,  0.88268156,\n",
       "        0.8547486 ,  0.82681564,  0.79888268,  0.8603352 ,  0.84916201,\n",
       "        0.83240223,  0.81005587,  0.78212291,  0.82681564,  0.84916201])"
      ]
     },
     "execution_count": 178,
     "metadata": {},
     "output_type": "execute_result"
    }
   ],
   "source": [
    "acc_ensemble_voting"
   ]
  },
  {
   "cell_type": "code",
   "execution_count": 179,
   "metadata": {
    "collapsed": false
   },
   "outputs": [
    {
     "data": {
      "text/plain": [
       "0.82502793296089383"
      ]
     },
     "execution_count": 179,
     "metadata": {},
     "output_type": "execute_result"
    }
   ],
   "source": [
    "acc_ensemble_voting.mean()"
   ]
  },
  {
   "cell_type": "code",
   "execution_count": 187,
   "metadata": {
    "collapsed": true
   },
   "outputs": [],
   "source": [
    "hard_vote = VotingClassifier(\n",
    "    estimators=[\n",
    "        #('tree', clf_tree),\n",
    "        ('knn', knn),\n",
    "        ('svm', svc),\n",
    "        ('extra', clf_ext),\n",
    "       #('gb', clf_gb),\n",
    "        ('rf', random_forest),\n",
    "        ('NB', gaussian),\n",
    "        ('logistic', logreg),\n",
    "        #('RF', clf_rf),\n",
    "        ],\n",
    "    weights=[3,3,2,2,1,2],\n",
    "    voting='hard')\n",
    "acc_ensemble_hard_voting = predict_model(X_train, Y_train, hard_vote, X_test, 'submission_hard_voting.csv')"
   ]
  },
  {
   "cell_type": "code",
   "execution_count": 189,
   "metadata": {
    "collapsed": false
   },
   "outputs": [
    {
     "data": {
      "text/plain": [
       "0.82893854748603357"
      ]
     },
     "execution_count": 189,
     "metadata": {},
     "output_type": "execute_result"
    }
   ],
   "source": [
    "acc_ensemble_hard_voting.mean()"
   ]
  },
  {
   "cell_type": "code",
   "execution_count": null,
   "metadata": {
    "collapsed": true
   },
   "outputs": [],
   "source": []
  }
 ],
 "metadata": {
  "anaconda-cloud": {},
  "kernelspec": {
   "display_name": "Python [default]",
   "language": "python",
   "name": "python3"
  },
  "language_info": {
   "codemirror_mode": {
    "name": "ipython",
    "version": 3
   },
   "file_extension": ".py",
   "mimetype": "text/x-python",
   "name": "python",
   "nbconvert_exporter": "python",
   "pygments_lexer": "ipython3",
   "version": "3.5.2"
  }
 },
 "nbformat": 4,
 "nbformat_minor": 1
}
